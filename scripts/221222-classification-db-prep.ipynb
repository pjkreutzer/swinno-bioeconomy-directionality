{
 "cells": [
  {
   "cell_type": "code",
   "execution_count": null,
   "id": "05a3b73f-a264-40ae-8500-b307569fa63a",
   "metadata": {},
   "outputs": [],
   "source": [
    "import pandas as pd\n",
    "from src.swinno_helpers import split_cols\n",
    "from src.swinno_helpers import melt_table\n"
   ]
  },
  {
   "cell_type": "code",
   "execution_count": null,
   "id": "365abac4-e274-44d0-8998-a5728e9eb969",
   "metadata": {},
   "outputs": [],
   "source": [
    "tags_221222 = pd.read_csv(\"../data/raw-data/221222-tagged-innovations.csv\")\n",
    "tags_221222.columns = tags_221222.columns.str.strip().str.lower().str.replace(\" \", \"_\")\n",
    "tags_221222.head()\n"
   ]
  },
  {
   "attachments": {},
   "cell_type": "markdown",
   "id": "d3e9f0a5",
   "metadata": {},
   "source": [
    "## Check for Duplicates"
   ]
  },
  {
   "cell_type": "code",
   "execution_count": null,
   "id": "c690ce1c",
   "metadata": {},
   "outputs": [],
   "source": [
    "duplicates = tags_221222.loc[tags_221222.duplicated(subset=\"sinno_id\", keep=False), :]\n",
    "duplicates = duplicates.sort_values(by=\"sinno_id\")\n",
    "len(duplicates)\n"
   ]
  },
  {
   "attachments": {},
   "cell_type": "markdown",
   "id": "3289dd78",
   "metadata": {},
   "source": [
    "There are 46 duplicates in this dataset.\n",
    "The majority is non forest.\n",
    "\n",
    "While some innovations have received at least one differing code, the overwhelming majority has been tagged as close enough.\n",
    "\n",
    "There is also a possibility that the introduction of some codes later in the process influenced the categorization.\n",
    "Need to check this up"
   ]
  },
  {
   "attachments": {},
   "cell_type": "markdown",
   "id": "a3186942",
   "metadata": {},
   "source": [
    "## Prepare DB Entry"
   ]
  },
  {
   "cell_type": "code",
   "execution_count": null,
   "id": "b571a83f",
   "metadata": {},
   "outputs": [],
   "source": [
    "innovation_types = tags_221222[[\"sinno_id\", \"innovation_type\"]]\n",
    "visions = tags_221222[[\"sinno_id\", \"bioeconomy_vision\"]]\n",
    "notes = tags_221222[[\"sinno_id\", \"notes\"]]\n"
   ]
  },
  {
   "attachments": {},
   "cell_type": "markdown",
   "id": "2ce0663e",
   "metadata": {},
   "source": [
    "### Innovation Types"
   ]
  },
  {
   "cell_type": "code",
   "execution_count": null,
   "id": "a0b3eaa0",
   "metadata": {},
   "outputs": [],
   "source": [
    "split_innovation_types = split_cols(innovation_types, \"innovation_type\", sep=\",\")\n"
   ]
  },
  {
   "cell_type": "code",
   "execution_count": null,
   "id": "5800083f",
   "metadata": {},
   "outputs": [],
   "source": [
    "melted_innovation_types = melt_table(\n",
    "    split_innovation_types, \"sinno_id\", \"innovation\", \"innovation_type\"\n",
    ").dropna()\n"
   ]
  },
  {
   "cell_type": "code",
   "execution_count": null,
   "id": "8e74f4e6",
   "metadata": {},
   "outputs": [],
   "source": [
    "melted_innovation_types.head()\n"
   ]
  },
  {
   "cell_type": "code",
   "execution_count": null,
   "id": "5de78c30",
   "metadata": {},
   "outputs": [],
   "source": [
    "melted_innovation_types[\"sinno_id\"] = melted_innovation_types[\"sinno_id\"].astype(int)\n"
   ]
  },
  {
   "attachments": {},
   "cell_type": "markdown",
   "id": "7aaa1f49",
   "metadata": {},
   "source": [
    "### Bioeconomy Visions"
   ]
  },
  {
   "cell_type": "code",
   "execution_count": null,
   "id": "0001e739",
   "metadata": {},
   "outputs": [],
   "source": [
    "visions.columns\n"
   ]
  },
  {
   "cell_type": "code",
   "execution_count": null,
   "id": "02adfbd2",
   "metadata": {},
   "outputs": [],
   "source": [
    "split_visions = split_cols(visions, col_to_split=\"bioeconomy_vision\", sep=\",\")\n",
    "melted_visions = melt_table(\n",
    "    split_visions, id_vars=\"sinno_id\", col_start=\"bio\", value_name=\"bioeconomy_vision\"\n",
    ")\n",
    "melted_visions.dropna(inplace=True)\n",
    "melted_visions[\"sinno_id\"] = melted_visions[\"sinno_id\"].astype(int)\n"
   ]
  },
  {
   "attachments": {},
   "cell_type": "markdown",
   "id": "e3c0a61a",
   "metadata": {},
   "source": [
    "## Export\n"
   ]
  },
  {
   "cell_type": "code",
   "execution_count": null,
   "id": "650d4c68",
   "metadata": {},
   "outputs": [],
   "source": [
    "notes.to_csv(\"../data/modified-data/22122-notes.csv\")\n",
    "melted_visions.to_csv(\"../data/modified-data/221222-visions.csv\")\n",
    "melted_innovation_types.to_csv(\"../data/modified-data/221222-innovation-types.csv\")\n"
   ]
  },
  {
   "cell_type": "code",
   "execution_count": null,
   "id": "9c0ca875",
   "metadata": {},
   "outputs": [],
   "source": [
    "from pathlib import Path\n",
    "from sqlalchemy import create_engine\n",
    "database_dir = Path.cwd().parent.parent\n",
    "database_uri = f'sqlite:///{database_dir}/swinno.db'\n"
   ]
  },
  {
   "cell_type": "code",
   "execution_count": null,
   "id": "f3637cb8",
   "metadata": {},
   "outputs": [],
   "source": [
    "engine = create_engine(database_uri)"
   ]
  },
  {
   "cell_type": "code",
   "execution_count": 12,
   "id": "4f0df2af",
   "metadata": {},
   "outputs": [
    {
     "ename": "NameError",
     "evalue": "name 'swinno' is not defined",
     "output_type": "error",
     "traceback": [
      "\u001b[0;31m---------------------------------------------------------------------------\u001b[0m",
      "\u001b[0;31mNameError\u001b[0m                                 Traceback (most recent call last)",
      "Cell \u001b[0;32mIn[12], line 3\u001b[0m\n\u001b[1;32m      1\u001b[0m \u001b[39mfrom\u001b[39;00m \u001b[39msrc\u001b[39;00m\u001b[39m.\u001b[39;00m\u001b[39mswinno_helpers\u001b[39;00m \u001b[39mimport\u001b[39;00m connect_swinno_db\n\u001b[0;32m----> 3\u001b[0m connect_swinno_db()\n",
      "File \u001b[0;32m/mnt/c/Users/ph8148kr/OneDrive - Lund University/research/swinno-shades-green/src/swinno_helpers.py:87\u001b[0m, in \u001b[0;36mconnect_swinno_db\u001b[0;34m()\u001b[0m\n\u001b[1;32m     84\u001b[0m \u001b[39mdef\u001b[39;00m \u001b[39mconnect_swinno_db\u001b[39m():\n\u001b[1;32m     86\u001b[0m     database_dir \u001b[39m=\u001b[39m get_project_root()\u001b[39m.\u001b[39mparent\n\u001b[0;32m---> 87\u001b[0m     database_uri \u001b[39m=\u001b[39m \u001b[39mf\u001b[39m\u001b[39m'\u001b[39m\u001b[39msqlite:///\u001b[39m\u001b[39m{\u001b[39;00mdatabase_dir\u001b[39m/\u001b[39mswinno\u001b[39m.\u001b[39mdb\u001b[39m}\u001b[39;00m\u001b[39m'\u001b[39m\n\u001b[1;32m     88\u001b[0m     engine \u001b[39m=\u001b[39m create_engine(database_uri, echo\u001b[39m=\u001b[39m\u001b[39mTrue\u001b[39;00m)\n\u001b[1;32m     89\u001b[0m     \u001b[39mreturn\u001b[39;00m engine\n",
      "\u001b[0;31mNameError\u001b[0m: name 'swinno' is not defined"
     ]
    }
   ],
   "source": [
    "from src.swinno_helpers import connect_swinno_db\n",
    "\n",
    "connect_swinno_db()"
   ]
  },
  {
   "cell_type": "code",
   "execution_count": null,
   "id": "98020dfc",
   "metadata": {},
   "outputs": [],
   "source": [
    "melted_innovation_types.to_sql(name='eco_innovations', con=engine, if_exists='append', index=False)\n"
   ]
  },
  {
   "cell_type": "code",
   "execution_count": null,
   "id": "8ef01a2b",
   "metadata": {},
   "outputs": [],
   "source": [
    "notes.to_sql(name='classification_notes', con=engine, if_exists='append', index=False)"
   ]
  },
  {
   "cell_type": "code",
   "execution_count": null,
   "id": "a3dbef85",
   "metadata": {},
   "outputs": [],
   "source": [
    "melted_visions.to_sql(name='bioeconomy_vision', con=engine, if_exists='append', index=False)"
   ]
  },
  {
   "cell_type": "code",
   "execution_count": null,
   "id": "f6b37ac8",
   "metadata": {},
   "outputs": [],
   "source": []
  }
 ],
 "metadata": {
  "kernelspec": {
   "display_name": "swinno-shades-green",
   "language": "python",
   "name": "python3"
  },
  "language_info": {
   "codemirror_mode": {
    "name": "ipython",
    "version": 3
   },
   "file_extension": ".py",
   "mimetype": "text/x-python",
   "name": "python",
   "nbconvert_exporter": "python",
   "pygments_lexer": "ipython3",
   "version": "3.10.9"
  },
  "vscode": {
   "interpreter": {
    "hash": "cff8d3e6f873bd8502c57bbb57d4afb433f8cac6d0742cc87f7c6935e69264aa"
   }
  }
 },
 "nbformat": 4,
 "nbformat_minor": 5
}
