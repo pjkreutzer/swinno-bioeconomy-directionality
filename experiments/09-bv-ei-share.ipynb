{
 "cells": [
  {
   "cell_type": "markdown",
   "metadata": {},
   "source": [
    "# Bioeconomy visions relation to eco-innovations\n",
    "\n",
    "For this I need:\n",
    "\n",
    "1. the eco-innovations associated with no bioeconomy vision [x]\n",
    "2. the number of bio-economy visions with no eco-innovations [x]\n",
    "3. the total number of bioeconomy visions [x]\n",
    "4. the total number of eco-innovations [x]"
   ]
  },
  {
   "cell_type": "code",
   "execution_count": 2,
   "metadata": {},
   "outputs": [],
   "source": [
    "import pandas as pd\n",
    "import matplotlib.pyplot as plt\n",
    "\n",
    "from src.swinno_helpers import connect_swinno_db\n",
    "from src.utils import get_project_root\n",
    "\n",
    "ROOT = get_project_root()\n",
    "conn = connect_swinno_db()\n"
   ]
  },
  {
   "cell_type": "markdown",
   "metadata": {},
   "source": [
    "## Eco-Innovations with no bioeconomy vision"
   ]
  },
  {
   "cell_type": "code",
   "execution_count": 4,
   "metadata": {},
   "outputs": [],
   "source": [
    "ei_no_bv = pd.read_sql(\n",
    "    \"\"\"\n",
    "SELECT\n",
    "  ei.sinno_id,\n",
    "  ei.innovation_type\n",
    "FROM\n",
    "  eco_innovations_articles AS ei\n",
    "  INNER JOIN bioeconomy_visions_articles AS bv ON ei.sinno_id = bv.sinno_id\n",
    "WHERE\n",
    "  bv.bioeconomy_vision = 9\n",
    "  AND bv.sinno_id NOT IN (\n",
    "    SELECT\n",
    "      sinno_id\n",
    "    FROM\n",
    "      bioeconomy_visions_articles AS bv2\n",
    "    WHERE\n",
    "      bv2.bioeconomy_vision = 0\n",
    "  )\n",
    "  AND ei.innovation_type <> 999;\n",
    "\"\"\",\n",
    "    conn,\n",
    ")\n"
   ]
  },
  {
   "cell_type": "markdown",
   "metadata": {},
   "source": [
    "## Bioeconomy vision with no eco-innovations"
   ]
  },
  {
   "cell_type": "code",
   "execution_count": 57,
   "metadata": {},
   "outputs": [
    {
     "data": {
      "text/plain": [
       "54"
      ]
     },
     "execution_count": 57,
     "metadata": {},
     "output_type": "execute_result"
    }
   ],
   "source": [
    "bv_no_ei = pd.read_sql(\n",
    "    \"\"\"\n",
    "SELECT\n",
    "  DISTINCT(bv.sinno_id)\n",
    "FROM\n",
    "  bioeconomy_visions_articles as bv\n",
    "  JOIN eco_innovations_articles as ei on bv.sinno_id = ei.sinno_id\n",
    "WHERE\n",
    "  bv.sinno_id <> 9\n",
    "  AND bv.sinno_id NOT IN(\n",
    "    SELECT\n",
    "      sinno_id\n",
    "    FROM\n",
    "      bioeconomy_visions_articles AS bv2\n",
    "    WHERE\n",
    "      bv2.bioeconomy_vision = 0\n",
    "  )\n",
    "  AND bv.sinno_id NOT IN (\n",
    "    SELECT\n",
    "      sinno_id\n",
    "    FROM\n",
    "      eco_innovations_articles AS ei2\n",
    "    WHERE\n",
    "      ei2.innovation_type = 999\n",
    "  );\n",
    "\"\"\",\n",
    "    conn,\n",
    ")\n",
    "\n",
    "len(bv_no_ei)\n"
   ]
  },
  {
   "cell_type": "markdown",
   "metadata": {},
   "source": [
    "## Total Numbers\n",
    "\n",
    "Should this be on a per innovation basis or counted on the number of tags?\n",
    "Start with the number of tags.\n",
    "\n",
    "Needs to be the number of unique innovations."
   ]
  },
  {
   "cell_type": "code",
   "execution_count": 58,
   "metadata": {},
   "outputs": [
    {
     "data": {
      "text/plain": [
       "91"
      ]
     },
     "execution_count": 58,
     "metadata": {},
     "output_type": "execute_result"
    }
   ],
   "source": [
    "bvs = pd.read_sql(\n",
    "    \"\"\"\n",
    "SELECT\n",
    "  bv.sinno_id,\n",
    "  bv.bioeconomy_vision\n",
    "FROM\n",
    "  bioeconomy_visions_articles as bv\n",
    "WHERE \n",
    "  bv.sinno_id <> 9\n",
    "  AND bv.sinno_id NOT IN(\n",
    "    SELECT\n",
    "      sinno_id\n",
    "    FROM\n",
    "      bioeconomy_visions_articles AS bv2\n",
    "    WHERE\n",
    "      bv2.bioeconomy_vision = 0\n",
    "  );\n",
    "\"\"\",\n",
    "    conn,\n",
    ")  # filter out unsures\n",
    "len(bvs)\n"
   ]
  },
  {
   "cell_type": "code",
   "execution_count": 59,
   "metadata": {},
   "outputs": [],
   "source": [
    "eis = pd.read_sql(\n",
    "    \"\"\"\n",
    "SELECT\n",
    "    sinno_id\n",
    "FROM \n",
    "    eco_innovations_articles as ei\n",
    "WHERE\n",
    "    ei.sinno_id NOT IN (\n",
    "    SELECT\n",
    "      sinno_id\n",
    "    FROM\n",
    "      eco_innovations_articles AS ei2\n",
    "    WHERE\n",
    "      ei2.innovation_type = 0 OR ei2.innovation_type = 000\n",
    "  );\n",
    "\"\"\",\n",
    "    conn,\n",
    ")  # filter out unsures\n"
   ]
  },
  {
   "cell_type": "markdown",
   "metadata": {},
   "source": [
    "#### Shares"
   ]
  },
  {
   "cell_type": "code",
   "execution_count": 60,
   "metadata": {},
   "outputs": [
    {
     "name": "stdout",
     "output_type": "stream",
     "text": [
      "Share of articles with BV but no EI: 59.34%\n",
      "Share of articles with BV but no EI (unique): 61.36%\n",
      "Share of articles with EI but no BV: 19.76%\n",
      "Share of articles with EI but no BV (unique): 19.64%\n"
     ]
    }
   ],
   "source": [
    "bv_share = len(bv_no_ei) / len(bvs)\n",
    "bv_share_unique = len(bv_no_ei[\"sinno_id\"].unique()) / len(bvs[\"sinno_id\"].unique())\n",
    "\n",
    "ei_share = len(ei_no_bv) / len(eis)\n",
    "ei_share_unique = len(ei_no_bv[\"sinno_id\"].unique()) / len(eis[\"sinno_id\"].unique())\n",
    "\n",
    "print(f\"Share of articles with BV but no EI: {bv_share:.2%}\")\n",
    "print(f\"Share of articles with BV but no EI (unique): {bv_share_unique:.2%}\")\n",
    "print(f\"Share of articles with EI but no BV: {ei_share:.2%}\")\n",
    "print(f\"Share of articles with EI but no BV (unique): {ei_share_unique:.2%}\")\n"
   ]
  },
  {
   "cell_type": "markdown",
   "metadata": {},
   "source": [
    "These results make no sense for the bioeconomy visions, as the share is way to high"
   ]
  },
  {
   "cell_type": "code",
   "execution_count": null,
   "metadata": {},
   "outputs": [],
   "source": []
  }
 ],
 "metadata": {
  "kernelspec": {
   "display_name": "Python 3 (ipykernel)",
   "language": "python",
   "name": "python3"
  },
  "language_info": {
   "codemirror_mode": {
    "name": "ipython",
    "version": 3
   },
   "file_extension": ".py",
   "mimetype": "text/x-python",
   "name": "python",
   "nbconvert_exporter": "python",
   "pygments_lexer": "ipython3",
   "version": "3.9.12"
  }
 },
 "nbformat": 4,
 "nbformat_minor": 2
}
