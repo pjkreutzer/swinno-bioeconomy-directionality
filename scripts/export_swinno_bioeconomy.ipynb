{
 "cells": [
  {
   "attachments": {},
   "cell_type": "markdown",
   "metadata": {},
   "source": [
    "# The adaptable script to filter swinno db for bioeconomy innovations\n",
    "\n",
    "1. gets the innovation based on query\n",
    "2. exports to excel file for tagging\n",
    "3. exports to txt file for copying images"
   ]
  },
  {
   "cell_type": "code",
   "execution_count": 1,
   "metadata": {},
   "outputs": [],
   "source": [
    "import pandas as pd\n",
    "from pathlib import Path\n",
    "\n",
    "from src.swinno_helpers import connect_swinno_db\n",
    "from src.utils import get_project_root\n",
    "\n",
    "ROOT = get_project_root()\n",
    "swinno = connect_swinno_db()"
   ]
  },
  {
   "cell_type": "code",
   "execution_count": 5,
   "metadata": {},
   "outputs": [],
   "source": [
    "bioeconomy_excl_tagged = pd.read_sql(\n",
    "    \"\"\"\n",
    "select\n",
    "  distinct(i.sinno_id),\n",
    "  i.innovation_name_in_swedish AS name,\n",
    "  i.description_in_swedish AS description,\n",
    "  i.additional_information_if_origin_new_scientific_discovery || i.additional_information_if_origin_new_technologies_or_materials || i.additional_info_if_origin_official_regulation_legislation_and_standards || i.additional_information_if_origin_solution_for_a_problem || i.additional_information_if_origin_performance || i.additional_information_if_origin_other AS info,\n",
    "  i.year_of_commercialization AS year,\n",
    "  us.use_sector\n",
    "from\n",
    "  innovation i\n",
    "  join use_sectors us on i.sinno_id = us.sinno_id\n",
    "where\n",
    "  (\n",
    "    (\n",
    "    us.use_sector like '02%'\n",
    "    or us.use_sector like '20%'\n",
    "    or us.use_sector like '21%'\n",
    "    or us.use_sector like '22%'\n",
    "    or us.use_sector like '36%'\n",
    "    or product_code like '02%'\n",
    "    or product_code like '20%'\n",
    "    or product_code like '21%'\n",
    "    or product_code like '22%'\n",
    "    or product_code like '36%'\n",
    "   )\n",
    "  or (\n",
    "     description LIKE '%virke%'\n",
    "  OR description LIKE '%cellulos%'\n",
    "  OR description LIKE '%lignin%'\n",
    "  OR description LIKE '%spån%'\n",
    "  OR description LIKE '%bark%'\n",
    "  OR description LIKE '%levulinsyra%'\n",
    "  OR description LIKE '%furfural%'\n",
    "  OR description LIKE '%svarttjära%'\n",
    "  OR description LIKE '%svartlut%'\n",
    "  OR description LIKE '%växtbas%'\n",
    "  OR description LIKE '%ved%'\n",
    "  OR description LIKE '%trä%'\n",
    "  OR description LIKE '%skog%'\n",
    "  OR description LIKE '%biobränsle%'\n",
    "  OR description LIKE '%biologisk%'\n",
    "  OR description LIKE '%nedbrytbar%'\n",
    "  OR description LIKE '%papper%'\n",
    "  OR description LIKE '%pappret%'\n",
    "  OR description LIKE '%karton%'\n",
    "  OR description LIKE '%tencel%'\n",
    "   )\n",
    "  )\n",
    "  and i.sinno_id not in (\n",
    "    select\n",
    "      distinct(bv.sinno_id)\n",
    "    from\n",
    "      bioeconomy_visions_articles bv\n",
    "  ); -- excludes those already tagged\n",
    "\"\"\",\n",
    "    swinno,\n",
    ")"
   ]
  },
  {
   "cell_type": "code",
   "execution_count": 6,
   "metadata": {},
   "outputs": [
    {
     "name": "stdout",
     "output_type": "stream",
     "text": [
      "unique ids: 865\n",
      "all ids: 1105\n"
     ]
    }
   ],
   "source": [
    "print(\"unique ids:\", len(bioeconomy_excl_tagged[\"sinno_id\"].unique()))\n",
    "print(\"all ids:\", len(bioeconomy_excl_tagged[\"sinno_id\"]))"
   ]
  },
  {
   "attachments": {},
   "cell_type": "markdown",
   "metadata": {},
   "source": [
    "The fact that some innovations are doubled is not too bad at this stage, as the duplicates can be safely removed.\n",
    "It is a bit annoying, so:\n",
    "TODO: change query to return unique values only"
   ]
  },
  {
   "cell_type": "code",
   "execution_count": 7,
   "metadata": {},
   "outputs": [],
   "source": [
    "filtered_bioeco = bioeconomy_excl_tagged[\n",
    "    ~bioeconomy_excl_tagged.duplicated(subset=[\"sinno_id\"])\n",
    "]"
   ]
  },
  {
   "cell_type": "code",
   "execution_count": 8,
   "metadata": {},
   "outputs": [
    {
     "data": {
      "text/plain": [
       "865"
      ]
     },
     "execution_count": 8,
     "metadata": {},
     "output_type": "execute_result"
    }
   ],
   "source": [
    "len(filtered_bioeco)"
   ]
  },
  {
   "cell_type": "code",
   "execution_count": 10,
   "metadata": {},
   "outputs": [
    {
     "name": "stderr",
     "output_type": "stream",
     "text": [
      "/tmp/ipykernel_505/2338796597.py:5: SettingWithCopyWarning: \n",
      "A value is trying to be set on a copy of a slice from a DataFrame.\n",
      "Try using .loc[row_indexer,col_indexer] = value instead\n",
      "\n",
      "See the caveats in the documentation: https://pandas.pydata.org/pandas-docs/stable/user_guide/indexing.html#returning-a-view-versus-a-copy\n",
      "  filtered_bioeco[col] = None\n"
     ]
    }
   ],
   "source": [
    "tagging_columns = [\"bioeconomy_vision\", \"innovation_type\", \"article_checked\", \"notes\"]\n",
    "\n",
    "for col in tagging_columns:\n",
    "    filtered_bioeco[col] = None"
   ]
  },
  {
   "cell_type": "code",
   "execution_count": 11,
   "metadata": {},
   "outputs": [
    {
     "data": {
      "text/html": [
       "<div>\n",
       "<style scoped>\n",
       "    .dataframe tbody tr th:only-of-type {\n",
       "        vertical-align: middle;\n",
       "    }\n",
       "\n",
       "    .dataframe tbody tr th {\n",
       "        vertical-align: top;\n",
       "    }\n",
       "\n",
       "    .dataframe thead th {\n",
       "        text-align: right;\n",
       "    }\n",
       "</style>\n",
       "<table border=\"1\" class=\"dataframe\">\n",
       "  <thead>\n",
       "    <tr style=\"text-align: right;\">\n",
       "      <th></th>\n",
       "      <th>sinno_id</th>\n",
       "      <th>name</th>\n",
       "      <th>description</th>\n",
       "      <th>info</th>\n",
       "      <th>year</th>\n",
       "      <th>use_sectors</th>\n",
       "      <th>bioeconomy_vision</th>\n",
       "      <th>innovation_type</th>\n",
       "      <th>article_checked</th>\n",
       "      <th>notes</th>\n",
       "    </tr>\n",
       "  </thead>\n",
       "  <tbody>\n",
       "    <tr>\n",
       "      <th>0</th>\n",
       "      <td>5871001</td>\n",
       "      <td></td>\n",
       "      <td>Kompakt krympfilmstunnel med infravärmare. Inf...</td>\n",
       "      <td>InfravärmeteknikLitenhet; automatisering; arbe...</td>\n",
       "      <td>1972</td>\n",
       "      <td>22222</td>\n",
       "      <td>None</td>\n",
       "      <td>None</td>\n",
       "      <td>None</td>\n",
       "      <td>None</td>\n",
       "    </tr>\n",
       "    <tr>\n",
       "      <th>1</th>\n",
       "      <td>5872001</td>\n",
       "      <td>Multiline'</td>\n",
       "      <td>Automatisk maskin med vilken man kan gravera s...</td>\n",
       "      <td></td>\n",
       "      <td>1972</td>\n",
       "      <td>22222</td>\n",
       "      <td>None</td>\n",
       "      <td>None</td>\n",
       "      <td>None</td>\n",
       "      <td>None</td>\n",
       "    </tr>\n",
       "    <tr>\n",
       "      <th>2</th>\n",
       "      <td>5873001</td>\n",
       "      <td>Solna 225</td>\n",
       "      <td>Tvåfärgspress med UV-tork.</td>\n",
       "      <td></td>\n",
       "      <td>1973</td>\n",
       "      <td>22222</td>\n",
       "      <td>None</td>\n",
       "      <td>None</td>\n",
       "      <td>None</td>\n",
       "      <td>None</td>\n",
       "    </tr>\n",
       "    <tr>\n",
       "      <th>3</th>\n",
       "      <td>5874001</td>\n",
       "      <td>BOOK-O\"-MATIC</td>\n",
       "      <td>Tryckpress för framställning av färdig bok dir...</td>\n",
       "      <td></td>\n",
       "      <td>1972</td>\n",
       "      <td>22222</td>\n",
       "      <td>None</td>\n",
       "      <td>None</td>\n",
       "      <td>None</td>\n",
       "      <td>None</td>\n",
       "    </tr>\n",
       "    <tr>\n",
       "      <th>4</th>\n",
       "      <td>5875001</td>\n",
       "      <td>Nitarn</td>\n",
       "      <td>Häftningsmaskin (\"häftapparat\") med rotationsh...</td>\n",
       "      <td>Produktivitet (anpassad för höga hastigheter);...</td>\n",
       "      <td>1973</td>\n",
       "      <td>222</td>\n",
       "      <td>None</td>\n",
       "      <td>None</td>\n",
       "      <td>None</td>\n",
       "      <td>None</td>\n",
       "    </tr>\n",
       "  </tbody>\n",
       "</table>\n",
       "</div>"
      ],
      "text/plain": [
       "   sinno_id           name                                        description  \\\n",
       "0   5871001                 Kompakt krympfilmstunnel med infravärmare. Inf...   \n",
       "1   5872001     Multiline'  Automatisk maskin med vilken man kan gravera s...   \n",
       "2   5873001      Solna 225                         Tvåfärgspress med UV-tork.   \n",
       "3   5874001  BOOK-O\"-MATIC  Tryckpress för framställning av färdig bok dir...   \n",
       "4   5875001         Nitarn  Häftningsmaskin (\"häftapparat\") med rotationsh...   \n",
       "\n",
       "                                                info  year use_sectors  \\\n",
       "0  InfravärmeteknikLitenhet; automatisering; arbe...  1972       22222   \n",
       "1                                                     1972       22222   \n",
       "2                                                     1973       22222   \n",
       "3                                                     1972       22222   \n",
       "4  Produktivitet (anpassad för höga hastigheter);...  1973         222   \n",
       "\n",
       "  bioeconomy_vision innovation_type article_checked notes  \n",
       "0              None            None            None  None  \n",
       "1              None            None            None  None  \n",
       "2              None            None            None  None  \n",
       "3              None            None            None  None  \n",
       "4              None            None            None  None  "
      ]
     },
     "execution_count": 11,
     "metadata": {},
     "output_type": "execute_result"
    }
   ],
   "source": [
    "filtered_bioeco.head()"
   ]
  },
  {
   "cell_type": "code",
   "execution_count": 13,
   "metadata": {},
   "outputs": [],
   "source": [
    "filtered_bioeco.to_excel(\n",
    "    Path(ROOT, \"data/raw-data\", \"innovations_to_check.xlsx\"), index=False\n",
    ")"
   ]
  },
  {
   "cell_type": "code",
   "execution_count": 7,
   "metadata": {},
   "outputs": [],
   "source": [
    "id_to_source_path = Path(ROOT, \"notes\", \"230411_bioeconomy_excl_tagged.txt\")\n",
    "if id_to_source_path.exists():\n",
    "    id_to_source_path.unlink()\n",
    "with open(id_to_source_path, \"a\") as f:\n",
    "    for id in list(filtered_bioeco[\"sinno_id\"]):\n",
    "        f.write(str(id) + \"\\n\")"
   ]
  }
 ],
 "metadata": {
  "kernelspec": {
   "display_name": "swinno-shades-green",
   "language": "python",
   "name": "python3"
  },
  "language_info": {
   "codemirror_mode": {
    "name": "ipython",
    "version": 3
   },
   "file_extension": ".py",
   "mimetype": "text/x-python",
   "name": "python",
   "nbconvert_exporter": "python",
   "pygments_lexer": "ipython3",
   "version": "3.10.9"
  },
  "orig_nbformat": 4
 },
 "nbformat": 4,
 "nbformat_minor": 2
}
