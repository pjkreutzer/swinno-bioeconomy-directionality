{
 "cells": [
  {
   "attachments": {},
   "cell_type": "markdown",
   "metadata": {},
   "source": [
    "# The adaptable script to filter swinno db for bioeconomy innovations\n",
    "\n",
    "1. gets the innovation based on query\n",
    "2. exports to excel file for tagging\n",
    "3. exports to txt file for copying images"
   ]
  },
  {
   "cell_type": "code",
   "execution_count": 1,
   "metadata": {},
   "outputs": [],
   "source": [
    "import pandas as pd\n",
    "from pathlib import Path\n",
    "\n",
    "from src.swinno_helpers import connect_swinno_db\n",
    "from src.utils import get_project_root\n",
    "\n",
    "ROOT = get_project_root()\n",
    "swinno = connect_swinno_db()\n"
   ]
  },
  {
   "cell_type": "code",
   "execution_count": 2,
   "metadata": {},
   "outputs": [],
   "source": [
    "bioeconomy_excl_tagged = pd.read_sql(\n",
    "    \"\"\"\n",
    "select\n",
    "  distinct(i.sinno_id),\n",
    "  i.innovation_name_in_swedish AS name,\n",
    "  i.description_in_swedish AS description,\n",
    "  i.additional_information_if_origin__new_scientific_discovery || i.additional_information_if_origin__new_technologies_or_materials || i.additional_info_if_origin__official_regulation_legislation_and_standards || i.additional_information_if_origin__solution_for_a_problem || i.additional_information_if_origin__performance || i.additional_information_if_origin__other AS info,\n",
    "  i.year_of_commercialization AS year,\n",
    "  us.use_sectors\n",
    "from\n",
    "  innovation i\n",
    "  join use_sectors us on i.sinno_id = us.sinno_id\n",
    "where\n",
    "  (\n",
    "    us.use_sectors like '02%'\n",
    "    or us.use_sectors like '20%'\n",
    "    or us.use_sectors like '21%'\n",
    "    or us.use_sectors like '22%'\n",
    "    or us.use_sectors like '36%'\n",
    "    or product_code like '02%'\n",
    "    or product_code like '20%'\n",
    "    or product_code like '21%'\n",
    "    or product_code like '22%'\n",
    "    or product_code like '36%'\n",
    "  )\n",
    "  or (\n",
    "    description like '%cellulos%'\n",
    "    or description like '%lignin%'\n",
    "    or description like '%svartlut%'\n",
    "    or description like '%växtbas%'\n",
    "    or description like '%ved%'\n",
    "    or description like '%trä%'\n",
    "    or description like '%skog%'\n",
    "    or description like '%biobränsle%'\n",
    "    or description like '%biologisk%'\n",
    "    or description like '%nedbrytbar%'\n",
    "    or description like '%papper%'\n",
    "    or description like '%pappret%'\n",
    "    or description like '%karton%'\n",
    "  )\n",
    "  and i.sinno_id not in (\n",
    "    select\n",
    "      distinct(bv.sinno_id)\n",
    "    from\n",
    "      bioeconomy_visions_articles bv\n",
    "  ); -- excludes those already tagged\n",
    "\"\"\",\n",
    "    swinno,\n",
    ")\n"
   ]
  },
  {
   "cell_type": "code",
   "execution_count": 11,
   "metadata": {},
   "outputs": [
    {
     "name": "stdout",
     "output_type": "stream",
     "text": [
      "unique ids: 964\n",
      "all ids: 1733\n"
     ]
    }
   ],
   "source": [
    "print(\"unique ids:\", len(bioeconomy_excl_tagged[\"sinno_id\"].unique()))\n",
    "print(\"all ids:\", len(bioeconomy_excl_tagged[\"sinno_id\"]))\n"
   ]
  },
  {
   "attachments": {},
   "cell_type": "markdown",
   "metadata": {},
   "source": [
    "The fact that some innovations are doubled is not too bad at this stage, as the duplicates can be safely removed.\n",
    "It is a bit annoying, so:\n",
    "TODO: change query to return unique values only"
   ]
  },
  {
   "cell_type": "code",
   "execution_count": 13,
   "metadata": {},
   "outputs": [],
   "source": [
    "filtered_bioeco = bioeconomy_excl_tagged[\n",
    "    ~bioeconomy_excl_tagged.duplicated(subset=[\"sinno_id\"])\n",
    "]\n"
   ]
  },
  {
   "cell_type": "code",
   "execution_count": 14,
   "metadata": {},
   "outputs": [],
   "source": [
    "filtered_bioeco.to_excel(\n",
    "    Path(ROOT, \"data/raw-data\", \"innovations_to_check.xlsx\"), index=False\n",
    ")\n"
   ]
  },
  {
   "cell_type": "code",
   "execution_count": 28,
   "metadata": {},
   "outputs": [],
   "source": [
    "with open(Path(ROOT, \"notes\", \"230411_bioeconomy_excl_tagged.txt\"), \"a\") as f:\n",
    "    for id in list(filtered_bioeco[\"sinno_id\"]):\n",
    "        f.write(str(id) + \"\\n\")\n"
   ]
  }
 ],
 "metadata": {
  "kernelspec": {
   "display_name": "swinno-shades-green",
   "language": "python",
   "name": "python3"
  },
  "language_info": {
   "codemirror_mode": {
    "name": "ipython",
    "version": 3
   },
   "file_extension": ".py",
   "mimetype": "text/x-python",
   "name": "python",
   "nbconvert_exporter": "python",
   "pygments_lexer": "ipython3",
   "version": "3.10.9"
  },
  "orig_nbformat": 4
 },
 "nbformat": 4,
 "nbformat_minor": 2
}
