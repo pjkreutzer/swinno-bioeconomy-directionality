{
 "cells": [
  {
   "cell_type": "code",
   "execution_count": 1,
   "metadata": {},
   "outputs": [],
   "source": [
    "import pandas as pd\n",
    "from pathlib import Path\n",
    "from src.utils import get_project_root\n",
    "from src.categorization_helpers import *\n",
    "from src.swinno_helpers import *\n",
    "\n",
    "ROOT = get_project_root()\n",
    "\n",
    "engine = connect_swinno_db()\n"
   ]
  },
  {
   "cell_type": "code",
   "execution_count": 2,
   "metadata": {},
   "outputs": [
    {
     "name": "stdout",
     "output_type": "stream",
     "text": [
      "(177, 9)\n"
     ]
    }
   ],
   "source": [
    "article_check = pd.read_excel(Path(ROOT, \"data/raw-data/check_articles.xlsx\"))\n",
    "article_check.dropna(subset=\"article_checked\", inplace=True)\n",
    "article_check.head()\n",
    "print(article_check.shape)\n"
   ]
  },
  {
   "cell_type": "code",
   "execution_count": 3,
   "metadata": {},
   "outputs": [],
   "source": [
    "innovation_types = article_check.loc[:, [\"sinno_id\", \"innovation_type\"]]\n",
    "cleaned_innovation_types = clean_codes(\n",
    "    innovation_types, code_digits=3, column=\"innovation_type\"\n",
    ")\n",
    "\n",
    "visions = article_check.loc[:, [\"sinno_id\", \"bioeconomy_vision\"]]\n",
    "cleaned_visions = clean_codes(visions, code_digits=1, column=\"bioeconomy_vision\")\n",
    "notes = article_check.loc[:, [\"sinno_id\", \"notes\"]]\n",
    "\n",
    "cleaned_innovation_types.name = \"innovation_types\"\n",
    "cleaned_visions.name = \"visions\"\n",
    "notes.name = \"notes\"\n"
   ]
  },
  {
   "cell_type": "code",
   "execution_count": 4,
   "metadata": {},
   "outputs": [
    {
     "name": "stdout",
     "output_type": "stream",
     "text": [
      "No duplicates found.\n",
      "-----\n",
      "No duplicates found.\n",
      "-----\n",
      "No duplicates found.\n",
      "-----\n"
     ]
    },
    {
     "data": {
      "text/plain": [
       "64"
      ]
     },
     "execution_count": 4,
     "metadata": {},
     "output_type": "execute_result"
    }
   ],
   "source": [
    "for df in [cleaned_innovation_types, notes, cleaned_visions]:\n",
    "    csv_path = Path(ROOT, \"data\", \"modified-data\", f\"{df.name}-duplicates.csv\")\n",
    "    check_duplicates(df, output_name=df.name, output_path=csv_path)\n",
    "    print(\"-\" * 5)\n",
    "\n",
    "\n",
    "split_visions = split_cols(cleaned_visions, col_to_split=\"bioeconomy_vision\", sep=\",\")\n",
    "melted_visions = melt_table(\n",
    "    split_visions, id_vars=\"sinno_id\", col_start=\"bio\", value_name=\"bioeconomy_vision\"\n",
    ")\n",
    "\n",
    "melted_visions = melted_visions.dropna()\n",
    "\n",
    "melted_visions.to_sql(\n",
    "    name=\"bioeconomy_visions_articles\", con=engine, if_exists=\"replace\", index=False\n",
    ")\n",
    "\n",
    "split_innovation_types = split_cols(\n",
    "    cleaned_innovation_types, col_to_split=\"innovation_type\", sep=\",\"\n",
    ")\n",
    "melted_innovation_types = melt_table(\n",
    "    split_innovation_types,\n",
    "    id_vars=\"sinno_id\",\n",
    "    col_start=\"innovation\",\n",
    "    value_name=\"innovation_type\",\n",
    ")\n",
    "melted_innovation_types.dropna()\n",
    "melted_innovation_types.to_sql(\n",
    "    name=\"eco_innovations_articles\", con=engine, if_exists=\"replace\", index=False\n",
    ")\n",
    "\n",
    "notes = notes.dropna()\n",
    "notes.to_sql(\n",
    "    name=\"categorization_notes_articles\", con=engine, index=False, if_exists=\"replace\"\n",
    ")\n"
   ]
  }
 ],
 "metadata": {
  "kernelspec": {
   "display_name": "swinno-shades-green",
   "language": "python",
   "name": "python3"
  },
  "language_info": {
   "codemirror_mode": {
    "name": "ipython",
    "version": 3
   },
   "file_extension": ".py",
   "mimetype": "text/x-python",
   "name": "python",
   "nbconvert_exporter": "python",
   "pygments_lexer": "ipython3",
   "version": "3.10.9"
  },
  "orig_nbformat": 4,
  "vscode": {
   "interpreter": {
    "hash": "cff8d3e6f873bd8502c57bbb57d4afb433f8cac6d0742cc87f7c6935e69264aa"
   }
  }
 },
 "nbformat": 4,
 "nbformat_minor": 2
}
