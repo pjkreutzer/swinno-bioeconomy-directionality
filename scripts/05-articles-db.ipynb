{
 "cells": [
  {
   "cell_type": "code",
   "execution_count": 1,
   "metadata": {},
   "outputs": [],
   "source": [
    "import pandas as pd\n",
    "from pathlib import Path\n",
    "from src.utils import get_project_root\n",
    "from src.categorization_helpers import *\n",
    "from src.swinno_helpers import *\n",
    "\n",
    "ROOT = get_project_root()\n",
    "\n",
    "engine = connect_swinno_db()\n"
   ]
  },
  {
   "cell_type": "code",
   "execution_count": 2,
   "metadata": {},
   "outputs": [
    {
     "data": {
      "text/html": [
       "<div>\n",
       "<style scoped>\n",
       "    .dataframe tbody tr th:only-of-type {\n",
       "        vertical-align: middle;\n",
       "    }\n",
       "\n",
       "    .dataframe tbody tr th {\n",
       "        vertical-align: top;\n",
       "    }\n",
       "\n",
       "    .dataframe thead th {\n",
       "        text-align: right;\n",
       "    }\n",
       "</style>\n",
       "<table border=\"1\" class=\"dataframe\">\n",
       "  <thead>\n",
       "    <tr style=\"text-align: right;\">\n",
       "      <th></th>\n",
       "      <th>sinno_id</th>\n",
       "      <th>Innovation name in Swedish</th>\n",
       "      <th>Description in Swedish</th>\n",
       "      <th>Additional Info</th>\n",
       "      <th>bioeconomy_vision</th>\n",
       "      <th>innovation_type</th>\n",
       "      <th>article_checked</th>\n",
       "      <th>notes</th>\n",
       "      <th>Column1</th>\n",
       "    </tr>\n",
       "  </thead>\n",
       "  <tbody>\n",
       "    <tr>\n",
       "      <th>0</th>\n",
       "      <td>6000001</td>\n",
       "      <td>Ensocoat/Ansogloss/Tambrite</td>\n",
       "      <td>Ny typ av kartongpapper i tre varianter avsedd...</td>\n",
       "      <td>NaN</td>\n",
       "      <td>9</td>\n",
       "      <td>9</td>\n",
       "      <td>1.0</td>\n",
       "      <td>NaN</td>\n",
       "      <td>NaN</td>\n",
       "    </tr>\n",
       "    <tr>\n",
       "      <th>1</th>\n",
       "      <td>6039001</td>\n",
       "      <td>WEN</td>\n",
       "      <td>Pneumatisk graverpenna. Drivenheten har inga a...</td>\n",
       "      <td>NaN</td>\n",
       "      <td>9</td>\n",
       "      <td>9</td>\n",
       "      <td>1.0</td>\n",
       "      <td>NaN</td>\n",
       "      <td>NaN</td>\n",
       "    </tr>\n",
       "    <tr>\n",
       "      <th>2</th>\n",
       "      <td>6341001</td>\n",
       "      <td>SawInfo</td>\n",
       "      <td>System för lagerhantering av virkespaket. Med ...</td>\n",
       "      <td>NaN</td>\n",
       "      <td>2</td>\n",
       "      <td>9</td>\n",
       "      <td>1.0</td>\n",
       "      <td>NaN</td>\n",
       "      <td>NaN</td>\n",
       "    </tr>\n",
       "    <tr>\n",
       "      <th>3</th>\n",
       "      <td>6562001</td>\n",
       "      <td>Diodair</td>\n",
       "      <td>Gasmätare för mätning av gaser med hjälp av la...</td>\n",
       "      <td>Ny kombination av tekniker.</td>\n",
       "      <td>9</td>\n",
       "      <td>602</td>\n",
       "      <td>1.0</td>\n",
       "      <td>NaN</td>\n",
       "      <td>NaN</td>\n",
       "    </tr>\n",
       "    <tr>\n",
       "      <th>4</th>\n",
       "      <td>6740001</td>\n",
       "      <td>Frosty</td>\n",
       "      <td>Universalterrängfordon på band. Maskinen har t...</td>\n",
       "      <td>NaN</td>\n",
       "      <td>9</td>\n",
       "      <td>9</td>\n",
       "      <td>1.0</td>\n",
       "      <td>NaN</td>\n",
       "      <td>NaN</td>\n",
       "    </tr>\n",
       "  </tbody>\n",
       "</table>\n",
       "</div>"
      ],
      "text/plain": [
       "   sinno_id   Innovation name in Swedish  \\\n",
       "0   6000001  Ensocoat/Ansogloss/Tambrite   \n",
       "1   6039001                          WEN   \n",
       "2   6341001                      SawInfo   \n",
       "3   6562001                      Diodair   \n",
       "4   6740001                       Frosty   \n",
       "\n",
       "                              Description in Swedish  \\\n",
       "0  Ny typ av kartongpapper i tre varianter avsedd...   \n",
       "1  Pneumatisk graverpenna. Drivenheten har inga a...   \n",
       "2  System för lagerhantering av virkespaket. Med ...   \n",
       "3  Gasmätare för mätning av gaser med hjälp av la...   \n",
       "4  Universalterrängfordon på band. Maskinen har t...   \n",
       "\n",
       "                Additional Info bioeconomy_vision innovation_type  \\\n",
       "0                           NaN                 9               9   \n",
       "1                           NaN                 9               9   \n",
       "2                           NaN                 2               9   \n",
       "3  Ny kombination av tekniker.                  9             602   \n",
       "4                           NaN                 9               9   \n",
       "\n",
       "   article_checked notes Column1  \n",
       "0              1.0   NaN     NaN  \n",
       "1              1.0   NaN     NaN  \n",
       "2              1.0   NaN     NaN  \n",
       "3              1.0   NaN     NaN  \n",
       "4              1.0   NaN     NaN  "
      ]
     },
     "execution_count": 2,
     "metadata": {},
     "output_type": "execute_result"
    }
   ],
   "source": [
    "article_check = pd.read_excel(Path(ROOT, \"data/raw-data/check_articles.xlsx\"))\n",
    "article_check.dropna(subset=\"article_checked\", inplace=True)\n",
    "article_check.head()\n"
   ]
  },
  {
   "cell_type": "code",
   "execution_count": 3,
   "metadata": {},
   "outputs": [],
   "source": [
    "innovation_types = article_check.loc[:, [\"sinno_id\", \"innovation_type\"]]\n",
    "cleaned_innovation_types = clean_codes(innovation_types, code_digits=3, column=\"innovation_type\")\n",
    "\n",
    "visions = article_check.loc[:, [\"sinno_id\", \"bioeconomy_vision\"]]\n",
    "cleaned_visions = clean_codes(visions, code_digits=1, column=\"bioeconomy_vision\")\n",
    "notes = article_check.loc[:, [\"sinno_id\", \"notes\"]]\n",
    "\n",
    "cleaned_innovation_types.name = \"innovation_types\"\n",
    "cleaned_visions.name = \"visions\"\n",
    "notes.name = \"notes\"\n"
   ]
  },
  {
   "cell_type": "code",
   "execution_count": 4,
   "metadata": {},
   "outputs": [
    {
     "name": "stdout",
     "output_type": "stream",
     "text": [
      "No duplicates found.\n",
      "-----\n",
      "No duplicates found.\n",
      "-----\n",
      "No duplicates found.\n",
      "-----\n"
     ]
    },
    {
     "data": {
      "text/plain": [
       "33"
      ]
     },
     "execution_count": 4,
     "metadata": {},
     "output_type": "execute_result"
    }
   ],
   "source": [
    "for df in [cleaned_innovation_types, notes, cleaned_visions]:\n",
    "    csv_path = Path(ROOT, \"data\", \"modified-data\", f\"{df.name}-duplicates.csv\")\n",
    "    check_duplicates(df, output_name=df.name, output_path=csv_path)\n",
    "    print(\"-\" * 5)\n",
    "\n",
    "\n",
    "split_visions = split_cols(cleaned_visions, col_to_split=\"bioeconomy_vision\", sep=\",\")\n",
    "melted_visions = melt_table(\n",
    "    split_visions, id_vars=\"sinno_id\", col_start=\"bio\", value_name=\"bioeconomy_vision\"\n",
    ")\n",
    "\n",
    "melted_visions = melted_visions.dropna()\n",
    "\n",
    "melted_visions.to_sql(\n",
    "    name=\"bioeconomy_visions_articles\", con=engine, if_exists=\"replace\", index=False\n",
    ")\n",
    "\n",
    "split_innovation_types = split_cols(\n",
    "    cleaned_innovation_types, col_to_split=\"innovation_type\", sep=\",\"\n",
    ")\n",
    "melted_innovation_types = melt_table(\n",
    "    split_innovation_types,\n",
    "    id_vars=\"sinno_id\",\n",
    "    col_start=\"innovation\",\n",
    "    value_name=\"innovation_type\",\n",
    ")\n",
    "melted_innovation_types.dropna()\n",
    "melted_innovation_types.to_sql(\n",
    "    name=\"eco_innovations_articles\", con=engine, if_exists=\"replace\", index=False\n",
    ")\n",
    "\n",
    "notes = notes.dropna()\n",
    "notes.to_sql(\n",
    "    name=\"categorization_notes_articles\", con=engine, index=False, if_exists=\"replace\"\n",
    ")\n"
   ]
  },
  {
   "cell_type": "code",
   "execution_count": 5,
   "metadata": {},
   "outputs": [
    {
     "ename": "KeyError",
     "evalue": "'innovation_type'",
     "output_type": "error",
     "traceback": [
      "\u001b[0;31m---------------------------------------------------------------------------\u001b[0m",
      "\u001b[0;31mKeyError\u001b[0m                                  Traceback (most recent call last)",
      "File \u001b[0;32m~/miniconda3/envs/swinno-shades-green/lib/python3.10/site-packages/pandas/core/indexes/base.py:3803\u001b[0m, in \u001b[0;36mIndex.get_loc\u001b[0;34m(self, key, method, tolerance)\u001b[0m\n\u001b[1;32m   3802\u001b[0m \u001b[39mtry\u001b[39;00m:\n\u001b[0;32m-> 3803\u001b[0m     \u001b[39mreturn\u001b[39;00m \u001b[39mself\u001b[39;49m\u001b[39m.\u001b[39;49m_engine\u001b[39m.\u001b[39;49mget_loc(casted_key)\n\u001b[1;32m   3804\u001b[0m \u001b[39mexcept\u001b[39;00m \u001b[39mKeyError\u001b[39;00m \u001b[39mas\u001b[39;00m err:\n",
      "File \u001b[0;32m~/miniconda3/envs/swinno-shades-green/lib/python3.10/site-packages/pandas/_libs/index.pyx:138\u001b[0m, in \u001b[0;36mpandas._libs.index.IndexEngine.get_loc\u001b[0;34m()\u001b[0m\n",
      "File \u001b[0;32m~/miniconda3/envs/swinno-shades-green/lib/python3.10/site-packages/pandas/_libs/index.pyx:165\u001b[0m, in \u001b[0;36mpandas._libs.index.IndexEngine.get_loc\u001b[0;34m()\u001b[0m\n",
      "File \u001b[0;32mpandas/_libs/hashtable_class_helper.pxi:5745\u001b[0m, in \u001b[0;36mpandas._libs.hashtable.PyObjectHashTable.get_item\u001b[0;34m()\u001b[0m\n",
      "File \u001b[0;32mpandas/_libs/hashtable_class_helper.pxi:5753\u001b[0m, in \u001b[0;36mpandas._libs.hashtable.PyObjectHashTable.get_item\u001b[0;34m()\u001b[0m\n",
      "\u001b[0;31mKeyError\u001b[0m: 'innovation_type'",
      "\nThe above exception was the direct cause of the following exception:\n",
      "\u001b[0;31mKeyError\u001b[0m                                  Traceback (most recent call last)",
      "Cell \u001b[0;32mIn[5], line 1\u001b[0m\n\u001b[0;32m----> 1\u001b[0m cleaned_innovation_types[\u001b[39m\"\u001b[39;49m\u001b[39minnovation_type\u001b[39;49m\u001b[39m\"\u001b[39;49m]\u001b[39m.\u001b[39munique()\n",
      "File \u001b[0;32m~/miniconda3/envs/swinno-shades-green/lib/python3.10/site-packages/pandas/core/frame.py:3805\u001b[0m, in \u001b[0;36mDataFrame.__getitem__\u001b[0;34m(self, key)\u001b[0m\n\u001b[1;32m   3803\u001b[0m \u001b[39mif\u001b[39;00m \u001b[39mself\u001b[39m\u001b[39m.\u001b[39mcolumns\u001b[39m.\u001b[39mnlevels \u001b[39m>\u001b[39m \u001b[39m1\u001b[39m:\n\u001b[1;32m   3804\u001b[0m     \u001b[39mreturn\u001b[39;00m \u001b[39mself\u001b[39m\u001b[39m.\u001b[39m_getitem_multilevel(key)\n\u001b[0;32m-> 3805\u001b[0m indexer \u001b[39m=\u001b[39m \u001b[39mself\u001b[39;49m\u001b[39m.\u001b[39;49mcolumns\u001b[39m.\u001b[39;49mget_loc(key)\n\u001b[1;32m   3806\u001b[0m \u001b[39mif\u001b[39;00m is_integer(indexer):\n\u001b[1;32m   3807\u001b[0m     indexer \u001b[39m=\u001b[39m [indexer]\n",
      "File \u001b[0;32m~/miniconda3/envs/swinno-shades-green/lib/python3.10/site-packages/pandas/core/indexes/base.py:3805\u001b[0m, in \u001b[0;36mIndex.get_loc\u001b[0;34m(self, key, method, tolerance)\u001b[0m\n\u001b[1;32m   3803\u001b[0m     \u001b[39mreturn\u001b[39;00m \u001b[39mself\u001b[39m\u001b[39m.\u001b[39m_engine\u001b[39m.\u001b[39mget_loc(casted_key)\n\u001b[1;32m   3804\u001b[0m \u001b[39mexcept\u001b[39;00m \u001b[39mKeyError\u001b[39;00m \u001b[39mas\u001b[39;00m err:\n\u001b[0;32m-> 3805\u001b[0m     \u001b[39mraise\u001b[39;00m \u001b[39mKeyError\u001b[39;00m(key) \u001b[39mfrom\u001b[39;00m \u001b[39merr\u001b[39;00m\n\u001b[1;32m   3806\u001b[0m \u001b[39mexcept\u001b[39;00m \u001b[39mTypeError\u001b[39;00m:\n\u001b[1;32m   3807\u001b[0m     \u001b[39m# If we have a listlike key, _check_indexing_error will raise\u001b[39;00m\n\u001b[1;32m   3808\u001b[0m     \u001b[39m#  InvalidIndexError. Otherwise we fall through and re-raise\u001b[39;00m\n\u001b[1;32m   3809\u001b[0m     \u001b[39m#  the TypeError.\u001b[39;00m\n\u001b[1;32m   3810\u001b[0m     \u001b[39mself\u001b[39m\u001b[39m.\u001b[39m_check_indexing_error(key)\n",
      "\u001b[0;31mKeyError\u001b[0m: 'innovation_type'"
     ]
    }
   ],
   "source": [
    "cleaned_innovation_types[\"innovation_type\"].unique()"
   ]
  },
  {
   "cell_type": "code",
   "execution_count": 7,
   "metadata": {},
   "outputs": [
    {
     "data": {
      "text/markdown": [
       "\n",
       "    Here is a lot of markdown text. and Even more tewhjösdfölkasdf\n",
       "\n",
       "    ashdjfaslkdfh\n",
       "    *jaldskfhlasf*\n",
       "    4\n",
       "    "
      ],
      "text/plain": [
       "<IPython.core.display.Markdown object>"
      ]
     },
     "metadata": {},
     "output_type": "display_data"
    }
   ],
   "source": [
    "from  IPython.display import display, Markdown\n",
    "\n",
    "display(Markdown(\n",
    "    f\"\"\"\n",
    "    Here is a lot of markdown text. and Even more tewhjösdfölkasdf\n",
    "\n",
    "    ashdjfaslkdfh\n",
    "    *jaldskfhlasf*\n",
    "    {len(range(4))}\n",
    "    \"\"\"\n",
    "))"
   ]
  },
  {
   "cell_type": "code",
   "execution_count": null,
   "metadata": {},
   "outputs": [],
   "source": []
  }
 ],
 "metadata": {
  "kernelspec": {
   "display_name": "swinno-shades-green",
   "language": "python",
   "name": "python3"
  },
  "language_info": {
   "codemirror_mode": {
    "name": "ipython",
    "version": 3
   },
   "file_extension": ".py",
   "mimetype": "text/x-python",
   "name": "python",
   "nbconvert_exporter": "python",
   "pygments_lexer": "ipython3",
   "version": "3.10.9"
  },
  "orig_nbformat": 4,
  "vscode": {
   "interpreter": {
    "hash": "cff8d3e6f873bd8502c57bbb57d4afb433f8cac6d0742cc87f7c6935e69264aa"
   }
  }
 },
 "nbformat": 4,
 "nbformat_minor": 2
}
