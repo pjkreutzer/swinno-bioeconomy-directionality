{
 "cells": [
  {
   "cell_type": "code",
   "execution_count": 1,
   "metadata": {},
   "outputs": [
    {
     "name": "stderr",
     "output_type": "stream",
     "text": [
      "\u001b[32m2024-09-13 08:25:10.155\u001b[0m | \u001b[1mINFO    \u001b[0m | \u001b[36mswinno_bioeconomy_directionality.config\u001b[0m:\u001b[36m<module>\u001b[0m:\u001b[36m7\u001b[0m - \u001b[1mPROJ_ROOT path is: /Users/research/projects/swinno_bioeconomy_directionality\u001b[0m\n"
     ]
    }
   ],
   "source": [
    "import pandas as pd\n",
    "from pathlib import Path\n",
    "from swinno_bioeconomy_directionality.utils import get_project_root\n",
    "import swinno_bioeconomy_directionality.categorization_helpers as categorization_helpers\n",
    "import swinno_bioeconomy_directionality.swinno_helpers as swinno_helpers\n",
    "from swinno_bioeconomy_directionality.config import RAW_DATA_DIR, PROCESSED_DATA_DIR\n",
    "\n",
    "engine = swinno_helpers.connect_swinno_db()"
   ]
  },
  {
   "cell_type": "code",
   "execution_count": 3,
   "metadata": {},
   "outputs": [],
   "source": [
    "retagged_bv = pd.read_csv(\n",
    "    RAW_DATA_DIR / \"final_classifications/retagged_bioeconomy_visions.csv\"\n",
    ")\n",
    "retagged_ei = pd.read_csv(\n",
    "    RAW_DATA_DIR / \"final_classifications/retagged_eco_innovations.csv\"\n",
    ")\n",
    "retagged_notes = pd.read_csv(RAW_DATA_DIR / \"final_classifications/retagged_notes.csv\")"
   ]
  },
  {
   "cell_type": "code",
   "execution_count": 10,
   "metadata": {},
   "outputs": [],
   "source": [
    "dfs = [\n",
    "    pd.read_csv(\n",
    "        p,\n",
    "        usecols=[\n",
    "            \"sinno_id\",\n",
    "            \"bioeconomy_vision\",\n",
    "            \"innovation_type\",\n",
    "            \"article_checked\",\n",
    "            \"notes\",\n",
    "        ],\n",
    "    )\n",
    "    for p in Path(RAW_DATA_DIR, \"final_classifications\").glob(\n",
    "        \"*_innovations-to-check.csv\"\n",
    "    )\n",
    "]"
   ]
  },
  {
   "cell_type": "code",
   "execution_count": 11,
   "metadata": {},
   "outputs": [
    {
     "data": {
      "text/plain": [
       "3"
      ]
     },
     "execution_count": 11,
     "metadata": {},
     "output_type": "execute_result"
    }
   ],
   "source": [
    "len(dfs)"
   ]
  },
  {
   "cell_type": "code",
   "execution_count": 12,
   "metadata": {},
   "outputs": [],
   "source": [
    "combined = pd.concat(dfs)"
   ]
  },
  {
   "cell_type": "code",
   "execution_count": 13,
   "metadata": {},
   "outputs": [],
   "source": [
    "combined_checked = combined.loc[combined[\"article_checked\"] == 1].copy()"
   ]
  },
  {
   "cell_type": "code",
   "execution_count": 14,
   "metadata": {},
   "outputs": [
    {
     "data": {
      "text/plain": [
       "(1, 5)"
      ]
     },
     "execution_count": 14,
     "metadata": {},
     "output_type": "execute_result"
    }
   ],
   "source": [
    "duplicates = combined_checked.loc[combined_checked.duplicated(subset=\"sinno_id\")]\n",
    "duplicates.shape"
   ]
  },
  {
   "cell_type": "code",
   "execution_count": 15,
   "metadata": {},
   "outputs": [],
   "source": [
    "uniques = combined_checked.loc[~combined_checked.duplicated(subset=\"sinno_id\")]"
   ]
  },
  {
   "cell_type": "code",
   "execution_count": 16,
   "metadata": {},
   "outputs": [
    {
     "data": {
      "text/html": [
       "<div>\n",
       "<style scoped>\n",
       "    .dataframe tbody tr th:only-of-type {\n",
       "        vertical-align: middle;\n",
       "    }\n",
       "\n",
       "    .dataframe tbody tr th {\n",
       "        vertical-align: top;\n",
       "    }\n",
       "\n",
       "    .dataframe thead th {\n",
       "        text-align: right;\n",
       "    }\n",
       "</style>\n",
       "<table border=\"1\" class=\"dataframe\">\n",
       "  <thead>\n",
       "    <tr style=\"text-align: right;\">\n",
       "      <th></th>\n",
       "      <th>sinno_id</th>\n",
       "      <th>bioeconomy_vision</th>\n",
       "      <th>innovation_type</th>\n",
       "      <th>article_checked</th>\n",
       "      <th>notes</th>\n",
       "    </tr>\n",
       "  </thead>\n",
       "  <tbody>\n",
       "    <tr>\n",
       "      <th>0</th>\n",
       "      <td>6000001</td>\n",
       "      <td>9</td>\n",
       "      <td>9</td>\n",
       "      <td>1.0</td>\n",
       "      <td>NaN</td>\n",
       "    </tr>\n",
       "    <tr>\n",
       "      <th>1</th>\n",
       "      <td>6039001</td>\n",
       "      <td>9</td>\n",
       "      <td>9</td>\n",
       "      <td>1.0</td>\n",
       "      <td>NaN</td>\n",
       "    </tr>\n",
       "    <tr>\n",
       "      <th>2</th>\n",
       "      <td>6341001</td>\n",
       "      <td>2</td>\n",
       "      <td>9</td>\n",
       "      <td>1.0</td>\n",
       "      <td>NaN</td>\n",
       "    </tr>\n",
       "    <tr>\n",
       "      <th>3</th>\n",
       "      <td>6562001</td>\n",
       "      <td>9</td>\n",
       "      <td>602</td>\n",
       "      <td>1.0</td>\n",
       "      <td>NaN</td>\n",
       "    </tr>\n",
       "    <tr>\n",
       "      <th>4</th>\n",
       "      <td>6740001</td>\n",
       "      <td>9</td>\n",
       "      <td>9</td>\n",
       "      <td>1.0</td>\n",
       "      <td>NaN</td>\n",
       "    </tr>\n",
       "    <tr>\n",
       "      <th>...</th>\n",
       "      <td>...</td>\n",
       "      <td>...</td>\n",
       "      <td>...</td>\n",
       "      <td>...</td>\n",
       "      <td>...</td>\n",
       "    </tr>\n",
       "    <tr>\n",
       "      <th>525</th>\n",
       "      <td>10681001</td>\n",
       "      <td>9</td>\n",
       "      <td>230;206;211</td>\n",
       "      <td>1.0</td>\n",
       "      <td>not forest</td>\n",
       "    </tr>\n",
       "    <tr>\n",
       "      <th>526</th>\n",
       "      <td>10682001</td>\n",
       "      <td>9</td>\n",
       "      <td>999</td>\n",
       "      <td>1.0</td>\n",
       "      <td>not forest</td>\n",
       "    </tr>\n",
       "    <tr>\n",
       "      <th>527</th>\n",
       "      <td>10701001</td>\n",
       "      <td>9</td>\n",
       "      <td>601;161</td>\n",
       "      <td>1.0</td>\n",
       "      <td>not forest</td>\n",
       "    </tr>\n",
       "    <tr>\n",
       "      <th>528</th>\n",
       "      <td>10703001</td>\n",
       "      <td>9</td>\n",
       "      <td>999</td>\n",
       "      <td>1.0</td>\n",
       "      <td>not forest</td>\n",
       "    </tr>\n",
       "    <tr>\n",
       "      <th>683</th>\n",
       "      <td>12946001</td>\n",
       "      <td>2;3</td>\n",
       "      <td>206</td>\n",
       "      <td>1.0</td>\n",
       "      <td>NaN</td>\n",
       "    </tr>\n",
       "  </tbody>\n",
       "</table>\n",
       "<p>833 rows × 5 columns</p>\n",
       "</div>"
      ],
      "text/plain": [
       "     sinno_id bioeconomy_vision innovation_type  article_checked       notes\n",
       "0     6000001                 9               9              1.0         NaN\n",
       "1     6039001                 9               9              1.0         NaN\n",
       "2     6341001                 2               9              1.0         NaN\n",
       "3     6562001                 9             602              1.0         NaN\n",
       "4     6740001                 9               9              1.0         NaN\n",
       "..        ...               ...             ...              ...         ...\n",
       "525  10681001                 9     230;206;211              1.0  not forest\n",
       "526  10682001                 9             999              1.0  not forest\n",
       "527  10701001                 9         601;161              1.0  not forest\n",
       "528  10703001                 9             999              1.0  not forest\n",
       "683  12946001               2;3             206              1.0         NaN\n",
       "\n",
       "[833 rows x 5 columns]"
      ]
     },
     "execution_count": 16,
     "metadata": {},
     "output_type": "execute_result"
    }
   ],
   "source": [
    "uniques.loc[~uniques[\"sinno_id\"].isin(retagged_bv[\"sinno_id\"])]"
   ]
  },
  {
   "cell_type": "code",
   "execution_count": 17,
   "metadata": {},
   "outputs": [
    {
     "data": {
      "text/plain": [
       "46"
      ]
     },
     "execution_count": 17,
     "metadata": {},
     "output_type": "execute_result"
    }
   ],
   "source": [
    "len(retagged_bv[\"sinno_id\"].unique())"
   ]
  },
  {
   "cell_type": "markdown",
   "metadata": {},
   "source": [
    "# Remove the uncertain innovations"
   ]
  },
  {
   "cell_type": "code",
   "execution_count": 18,
   "metadata": {},
   "outputs": [],
   "source": [
    "certains = uniques.loc[~uniques[\"sinno_id\"].isin(retagged_bv[\"sinno_id\"])]"
   ]
  },
  {
   "cell_type": "markdown",
   "metadata": {},
   "source": [
    "## Eco Innovations"
   ]
  },
  {
   "cell_type": "code",
   "execution_count": 37,
   "metadata": {},
   "outputs": [],
   "source": [
    "innovation_types = certains.loc[:, [\"sinno_id\", \"innovation_type\"]]\n",
    "cleaned_innovation_types = categorization_helpers.clean_codes(\n",
    "    innovation_types, code_digits=3, column=\"innovation_type\"\n",
    ")\n",
    "\n",
    "split_innovation_types = swinno_helpers.split_cols(\n",
    "    cleaned_innovation_types, col_to_split=\"innovation_type\", sep=\",\"\n",
    ")\n",
    "\n",
    "melted_innovation_types = swinno_helpers.melt_table(\n",
    "    split_innovation_types,\n",
    "    id_vars=\"sinno_id\",\n",
    "    col_start=\"innovation\",\n",
    "    value_name=\"innovation_type\",\n",
    ")\n",
    "melted_innovation_types.dropna()\n",
    "\n",
    "melted_innovation_types[\"innovation_type\"] = melted_innovation_types[\n",
    "    \"innovation_type\"\n",
    "].astype(int)"
   ]
  },
  {
   "cell_type": "code",
   "execution_count": 38,
   "metadata": {},
   "outputs": [],
   "source": [
    "certain_eco_innovation_types = pd.concat([melted_innovation_types, retagged_ei], axis=0)"
   ]
  },
  {
   "cell_type": "code",
   "execution_count": 39,
   "metadata": {},
   "outputs": [
    {
     "data": {
      "text/plain": [
       "1486"
      ]
     },
     "execution_count": 39,
     "metadata": {},
     "output_type": "execute_result"
    }
   ],
   "source": [
    "certain_eco_innovation_types.to_sql(\n",
    "    name=\"eco_innovations\", con=engine, if_exists=\"replace\", index=False\n",
    ")"
   ]
  },
  {
   "cell_type": "markdown",
   "metadata": {},
   "source": [
    "## Bioeconomy Visions "
   ]
  },
  {
   "cell_type": "code",
   "execution_count": 35,
   "metadata": {},
   "outputs": [
    {
     "data": {
      "text/html": [
       "<div>\n",
       "<style scoped>\n",
       "    .dataframe tbody tr th:only-of-type {\n",
       "        vertical-align: middle;\n",
       "    }\n",
       "\n",
       "    .dataframe tbody tr th {\n",
       "        vertical-align: top;\n",
       "    }\n",
       "\n",
       "    .dataframe thead th {\n",
       "        text-align: right;\n",
       "    }\n",
       "</style>\n",
       "<table border=\"1\" class=\"dataframe\">\n",
       "  <thead>\n",
       "    <tr style=\"text-align: right;\">\n",
       "      <th></th>\n",
       "      <th>sinno_id</th>\n",
       "      <th>bioeconomy_vision</th>\n",
       "      <th>innovation_type</th>\n",
       "      <th>article_checked</th>\n",
       "      <th>notes</th>\n",
       "    </tr>\n",
       "  </thead>\n",
       "  <tbody>\n",
       "    <tr>\n",
       "      <th>0</th>\n",
       "      <td>6000001</td>\n",
       "      <td>9</td>\n",
       "      <td>9</td>\n",
       "      <td>1.0</td>\n",
       "      <td>NaN</td>\n",
       "    </tr>\n",
       "    <tr>\n",
       "      <th>1</th>\n",
       "      <td>6039001</td>\n",
       "      <td>9</td>\n",
       "      <td>9</td>\n",
       "      <td>1.0</td>\n",
       "      <td>NaN</td>\n",
       "    </tr>\n",
       "    <tr>\n",
       "      <th>2</th>\n",
       "      <td>6341001</td>\n",
       "      <td>2</td>\n",
       "      <td>9</td>\n",
       "      <td>1.0</td>\n",
       "      <td>NaN</td>\n",
       "    </tr>\n",
       "    <tr>\n",
       "      <th>3</th>\n",
       "      <td>6562001</td>\n",
       "      <td>9</td>\n",
       "      <td>602</td>\n",
       "      <td>1.0</td>\n",
       "      <td>NaN</td>\n",
       "    </tr>\n",
       "    <tr>\n",
       "      <th>4</th>\n",
       "      <td>6740001</td>\n",
       "      <td>9</td>\n",
       "      <td>9</td>\n",
       "      <td>1.0</td>\n",
       "      <td>NaN</td>\n",
       "    </tr>\n",
       "    <tr>\n",
       "      <th>...</th>\n",
       "      <td>...</td>\n",
       "      <td>...</td>\n",
       "      <td>...</td>\n",
       "      <td>...</td>\n",
       "      <td>...</td>\n",
       "    </tr>\n",
       "    <tr>\n",
       "      <th>525</th>\n",
       "      <td>10681001</td>\n",
       "      <td>9</td>\n",
       "      <td>230;206;211</td>\n",
       "      <td>1.0</td>\n",
       "      <td>not forest</td>\n",
       "    </tr>\n",
       "    <tr>\n",
       "      <th>526</th>\n",
       "      <td>10682001</td>\n",
       "      <td>9</td>\n",
       "      <td>999</td>\n",
       "      <td>1.0</td>\n",
       "      <td>not forest</td>\n",
       "    </tr>\n",
       "    <tr>\n",
       "      <th>527</th>\n",
       "      <td>10701001</td>\n",
       "      <td>9</td>\n",
       "      <td>601;161</td>\n",
       "      <td>1.0</td>\n",
       "      <td>not forest</td>\n",
       "    </tr>\n",
       "    <tr>\n",
       "      <th>528</th>\n",
       "      <td>10703001</td>\n",
       "      <td>9</td>\n",
       "      <td>999</td>\n",
       "      <td>1.0</td>\n",
       "      <td>not forest</td>\n",
       "    </tr>\n",
       "    <tr>\n",
       "      <th>683</th>\n",
       "      <td>12946001</td>\n",
       "      <td>2;3</td>\n",
       "      <td>206</td>\n",
       "      <td>1.0</td>\n",
       "      <td>NaN</td>\n",
       "    </tr>\n",
       "  </tbody>\n",
       "</table>\n",
       "<p>833 rows × 5 columns</p>\n",
       "</div>"
      ],
      "text/plain": [
       "     sinno_id bioeconomy_vision innovation_type  article_checked       notes\n",
       "0     6000001                 9               9              1.0         NaN\n",
       "1     6039001                 9               9              1.0         NaN\n",
       "2     6341001                 2               9              1.0         NaN\n",
       "3     6562001                 9             602              1.0         NaN\n",
       "4     6740001                 9               9              1.0         NaN\n",
       "..        ...               ...             ...              ...         ...\n",
       "525  10681001                 9     230;206;211              1.0  not forest\n",
       "526  10682001                 9             999              1.0  not forest\n",
       "527  10701001                 9         601;161              1.0  not forest\n",
       "528  10703001                 9             999              1.0  not forest\n",
       "683  12946001               2;3             206              1.0         NaN\n",
       "\n",
       "[833 rows x 5 columns]"
      ]
     },
     "execution_count": 35,
     "metadata": {},
     "output_type": "execute_result"
    }
   ],
   "source": [
    "certains"
   ]
  },
  {
   "cell_type": "code",
   "execution_count": 40,
   "metadata": {},
   "outputs": [
    {
     "data": {
      "text/plain": [
       "959"
      ]
     },
     "execution_count": 40,
     "metadata": {},
     "output_type": "execute_result"
    }
   ],
   "source": [
    "visions = certains.loc[:, [\"sinno_id\", \"bioeconomy_vision\"]]\n",
    "cleaned_visions = categorization_helpers.clean_codes(\n",
    "    visions, code_digits=1, column=\"bioeconomy_vision\"\n",
    ")\n",
    "\n",
    "split_visions = swinno_helpers.split_cols(\n",
    "    cleaned_visions, col_to_split=\"bioeconomy_vision\", sep=\",\"\n",
    ")\n",
    "\n",
    "melted_visions = swinno_helpers.melt_table(\n",
    "    split_visions, id_vars=\"sinno_id\", col_start=\"bio\", value_name=\"bioeconomy_vision\"\n",
    ")\n",
    "melted_visions.dropna()\n",
    "\n",
    "melted_visions[\"bioeconomy_vision\"] = melted_visions[\"bioeconomy_vision\"].astype(int)\n",
    "\n",
    "certain_visions = pd.concat([melted_visions, retagged_bv], axis=0)\n",
    "\n",
    "certain_visions.to_sql(\n",
    "    name=\"bioeconomy_visions\", con=engine, if_exists=\"replace\", index=False\n",
    ")"
   ]
  },
  {
   "cell_type": "markdown",
   "metadata": {},
   "source": [
    "##  Notes"
   ]
  },
  {
   "cell_type": "code",
   "execution_count": 22,
   "metadata": {},
   "outputs": [
    {
     "data": {
      "text/plain": [
       "425"
      ]
     },
     "execution_count": 22,
     "metadata": {},
     "output_type": "execute_result"
    }
   ],
   "source": [
    "notes = certains.loc[:, [\"sinno_id\", \"notes\"]]\n",
    "cleaned_innovation_types = categorization_helpers.clean_codes(\n",
    "    innovation_types, code_digits=3, column=\"innovation_type\"\n",
    ")\n",
    "\n",
    "certain_eco_innovation_types = pd.concat([notes, retagged_notes], axis=0)\n",
    "\n",
    "notes = notes.dropna()\n",
    "notes.to_sql(name=\"categorization_notes\", con=engine, index=False, if_exists=\"replace\")"
   ]
  },
  {
   "cell_type": "code",
   "execution_count": null,
   "metadata": {},
   "outputs": [],
   "source": []
  },
  {
   "cell_type": "code",
   "execution_count": null,
   "metadata": {},
   "outputs": [],
   "source": []
  }
 ],
 "metadata": {
  "kernelspec": {
   "display_name": "default",
   "language": "python",
   "name": "python3"
  },
  "language_info": {
   "codemirror_mode": {
    "name": "ipython",
    "version": 3
   },
   "file_extension": ".py",
   "mimetype": "text/x-python",
   "name": "python",
   "nbconvert_exporter": "python",
   "pygments_lexer": "ipython3",
   "version": "3.12.6"
  }
 },
 "nbformat": 4,
 "nbformat_minor": 2
}
