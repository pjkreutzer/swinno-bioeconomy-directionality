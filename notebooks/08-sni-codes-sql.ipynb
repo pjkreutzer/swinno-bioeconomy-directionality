{
 "cells": [
  {
   "attachments": {},
   "cell_type": "markdown",
   "metadata": {},
   "source": [
    "# Importing SNI Codes to SQL SWINNO"
   ]
  },
  {
   "cell_type": "code",
   "execution_count": 94,
   "metadata": {},
   "outputs": [],
   "source": [
    "import pandas as pd\n",
    "from src.swinno_helpers import connect_swinno_db\n"
   ]
  },
  {
   "cell_type": "code",
   "execution_count": 96,
   "metadata": {},
   "outputs": [],
   "source": [
    "sni_codes = pd.read_excel(\"https://www.scb.se/contentassets/d43b798da37140999abf883e206d0545/sni2002.xlsx\", sheet_name=None, skiprows=2, dtype=str, keep_default_na=False, na_values=[\"NULL\"])"
   ]
  },
  {
   "cell_type": "code",
   "execution_count": 97,
   "metadata": {},
   "outputs": [
    {
     "name": "stdout",
     "output_type": "stream",
     "text": [
      "dict_keys(['Detaljgrupp (Femsiffer)', 'Undergrupp (Fyrsiffer)', 'Grupp (Tresiffer)', 'Huvudgrupp (Tvåsiffer)', 'Underavdelning (Bokstav)', 'Avdelning (Bokstav)'])\n"
     ]
    }
   ],
   "source": [
    "print(sni_codes.keys())"
   ]
  },
  {
   "cell_type": "code",
   "execution_count": 98,
   "metadata": {},
   "outputs": [
    {
     "data": {
      "text/html": [
       "<div>\n",
       "<style scoped>\n",
       "    .dataframe tbody tr th:only-of-type {\n",
       "        vertical-align: middle;\n",
       "    }\n",
       "\n",
       "    .dataframe tbody tr th {\n",
       "        vertical-align: top;\n",
       "    }\n",
       "\n",
       "    .dataframe thead th {\n",
       "        text-align: right;\n",
       "    }\n",
       "</style>\n",
       "<table border=\"1\" class=\"dataframe\">\n",
       "  <thead>\n",
       "    <tr style=\"text-align: right;\">\n",
       "      <th></th>\n",
       "      <th>Detaljgrupp (Officiell kodstruktur)</th>\n",
       "      <th>Detaljgrupp</th>\n",
       "      <th>Benämning</th>\n",
       "    </tr>\n",
       "  </thead>\n",
       "  <tbody>\n",
       "    <tr>\n",
       "      <th>0</th>\n",
       "      <td>01.111</td>\n",
       "      <td>01111</td>\n",
       "      <td>Spannmålsodling m.m.</td>\n",
       "    </tr>\n",
       "    <tr>\n",
       "      <th>1</th>\n",
       "      <td>01.112</td>\n",
       "      <td>01112</td>\n",
       "      <td>Vallodling</td>\n",
       "    </tr>\n",
       "    <tr>\n",
       "      <th>2</th>\n",
       "      <td>01.113</td>\n",
       "      <td>01113</td>\n",
       "      <td>Potatisodling</td>\n",
       "    </tr>\n",
       "    <tr>\n",
       "      <th>3</th>\n",
       "      <td>01.114</td>\n",
       "      <td>01114</td>\n",
       "      <td>Sockerbetsodling</td>\n",
       "    </tr>\n",
       "    <tr>\n",
       "      <th>4</th>\n",
       "      <td>01.115</td>\n",
       "      <td>01115</td>\n",
       "      <td>Odling av jordbruksväxter, blandat (minst 67 %...</td>\n",
       "    </tr>\n",
       "  </tbody>\n",
       "</table>\n",
       "</div>"
      ],
      "text/plain": [
       "  Detaljgrupp (Officiell kodstruktur) Detaljgrupp  \\\n",
       "0                              01.111       01111   \n",
       "1                              01.112       01112   \n",
       "2                              01.113       01113   \n",
       "3                              01.114       01114   \n",
       "4                              01.115       01115   \n",
       "\n",
       "                                           Benämning  \n",
       "0                               Spannmålsodling m.m.  \n",
       "1                                         Vallodling  \n",
       "2                                      Potatisodling  \n",
       "3                                   Sockerbetsodling  \n",
       "4  Odling av jordbruksväxter, blandat (minst 67 %...  "
      ]
     },
     "execution_count": 98,
     "metadata": {},
     "output_type": "execute_result"
    }
   ],
   "source": [
    "sni_codes['Detaljgrupp (Femsiffer)'].head()"
   ]
  },
  {
   "cell_type": "code",
   "execution_count": 100,
   "metadata": {},
   "outputs": [],
   "source": [
    "for name in list(sni_codes.keys())[:3]:\n",
    "    sni_codes[name] = sni_codes[name].iloc[:, 1:]"
   ]
  },
  {
   "cell_type": "code",
   "execution_count": 101,
   "metadata": {},
   "outputs": [],
   "source": [
    "for df in sni_codes:\n",
    "    sni_codes[df].columns = [\"code\", \"label\"]\n"
   ]
  },
  {
   "cell_type": "code",
   "execution_count": 102,
   "metadata": {},
   "outputs": [],
   "source": [
    "merged_codes = pd.concat(sni_codes, keys=tuple(sni_codes), ignore_index=True)"
   ]
  },
  {
   "cell_type": "code",
   "execution_count": 103,
   "metadata": {},
   "outputs": [],
   "source": [
    "merged_codes[\"code\"] = merged_codes[\"code\"].astype(str)"
   ]
  },
  {
   "cell_type": "code",
   "execution_count": 104,
   "metadata": {},
   "outputs": [],
   "source": [
    "conn = connect_swinno_db()"
   ]
  },
  {
   "cell_type": "code",
   "execution_count": 105,
   "metadata": {},
   "outputs": [
    {
     "data": {
      "text/plain": [
       "1622"
      ]
     },
     "execution_count": 105,
     "metadata": {},
     "output_type": "execute_result"
    }
   ],
   "source": [
    "from sqlalchemy.types import String\n",
    "\n",
    "merged_codes.to_sql(name=\"sni_codes\", con=conn, index=False, if_exists=\"replace\", dtype={col_name: String for col_name in merged_codes.columns})"
   ]
  },
  {
   "cell_type": "code",
   "execution_count": 106,
   "metadata": {},
   "outputs": [
    {
     "data": {
      "text/html": [
       "<div>\n",
       "<style scoped>\n",
       "    .dataframe tbody tr th:only-of-type {\n",
       "        vertical-align: middle;\n",
       "    }\n",
       "\n",
       "    .dataframe tbody tr th {\n",
       "        vertical-align: top;\n",
       "    }\n",
       "\n",
       "    .dataframe thead th {\n",
       "        text-align: right;\n",
       "    }\n",
       "</style>\n",
       "<table border=\"1\" class=\"dataframe\">\n",
       "  <thead>\n",
       "    <tr style=\"text-align: right;\">\n",
       "      <th></th>\n",
       "      <th>code</th>\n",
       "      <th>label</th>\n",
       "    </tr>\n",
       "  </thead>\n",
       "  <tbody>\n",
       "    <tr>\n",
       "      <th>1567</th>\n",
       "      <td>85</td>\n",
       "      <td>Hälso- och sjukvård, sociala tjänster; veterin...</td>\n",
       "    </tr>\n",
       "    <tr>\n",
       "      <th>1601</th>\n",
       "      <td>NA</td>\n",
       "      <td>Hälso- och sjukvård, sociala tjänster; veterin...</td>\n",
       "    </tr>\n",
       "    <tr>\n",
       "      <th>1618</th>\n",
       "      <td>N</td>\n",
       "      <td>Hälso- och sjukvård, sociala tjänster; veterin...</td>\n",
       "    </tr>\n",
       "  </tbody>\n",
       "</table>\n",
       "</div>"
      ],
      "text/plain": [
       "     code                                              label\n",
       "1567   85  Hälso- och sjukvård, sociala tjänster; veterin...\n",
       "1601   NA  Hälso- och sjukvård, sociala tjänster; veterin...\n",
       "1618    N  Hälso- och sjukvård, sociala tjänster; veterin..."
      ]
     },
     "execution_count": 106,
     "metadata": {},
     "output_type": "execute_result"
    }
   ],
   "source": [
    "merged_codes.loc[merged_codes[\"label\"] == \"Hälso- och sjukvård, sociala tjänster; veterinärverksamhet\", :]"
   ]
  }
 ],
 "metadata": {
  "kernelspec": {
   "display_name": "swinno-shades-green",
   "language": "python",
   "name": "python3"
  },
  "language_info": {
   "codemirror_mode": {
    "name": "ipython",
    "version": 3
   },
   "file_extension": ".py",
   "mimetype": "text/x-python",
   "name": "python",
   "nbconvert_exporter": "python",
   "pygments_lexer": "ipython3",
   "version": "3.10.9"
  },
  "orig_nbformat": 4
 },
 "nbformat": 4,
 "nbformat_minor": 2
}
