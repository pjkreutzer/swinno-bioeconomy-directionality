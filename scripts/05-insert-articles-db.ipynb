{
 "cells": [
  {
   "cell_type": "code",
   "execution_count": 1,
   "metadata": {},
   "outputs": [],
   "source": [
    "import pandas as pd\n",
    "from pathlib import Path\n",
    "from src.utils import get_project_root\n",
    "from src.categorization_helpers import *\n",
    "from src.swinno_helpers import *\n",
    "\n",
    "ROOT = get_project_root()\n",
    "\n",
    "engine = connect_swinno_db()"
   ]
  },
  {
   "cell_type": "code",
   "execution_count": 2,
   "metadata": {},
   "outputs": [
    {
     "data": {
      "text/plain": [
       "(953, 5)"
      ]
     },
     "execution_count": 2,
     "metadata": {},
     "output_type": "execute_result"
    }
   ],
   "source": [
    "first_round = pd.read_excel(\n",
    "    Path(ROOT, \"data/raw-data/2304011-checked_innovations.xlsx\"),\n",
    "    usecols=[\n",
    "        \"sinno_id\",\n",
    "        \"bioeconomy_vision\",\n",
    "        \"innovation_type\",\n",
    "        \"article_checked\",\n",
    "        \"notes\",\n",
    "    ],\n",
    ")\n",
    "second_round = pd.read_excel(\n",
    "    Path(ROOT, \"data/raw-data/20230622_innovations-to-check.xlsx\"),\n",
    "    usecols=[\n",
    "        \"sinno_id\",\n",
    "        \"bioeconomy_vision\",\n",
    "        \"innovation_type\",\n",
    "        \"article_checked\",\n",
    "        \"notes\",\n",
    "    ],\n",
    ")\n",
    "\n",
    "article_check = pd.concat([first_round, second_round])\n",
    "\n",
    "article_check.shape"
   ]
  },
  {
   "cell_type": "code",
   "execution_count": 3,
   "metadata": {},
   "outputs": [],
   "source": [
    "innovation_types = article_check.loc[:, [\"sinno_id\", \"innovation_type\"]]\n",
    "cleaned_innovation_types = clean_codes(\n",
    "    innovation_types, code_digits=3, column=\"innovation_type\"\n",
    ")\n",
    "\n",
    "visions = article_check.loc[:, [\"sinno_id\", \"bioeconomy_vision\"]]\n",
    "cleaned_visions = clean_codes(visions, code_digits=1, column=\"bioeconomy_vision\")\n",
    "notes = article_check.loc[:, [\"sinno_id\", \"notes\"]]\n",
    "\n",
    "cleaned_innovation_types.name = \"innovation_types\"\n",
    "cleaned_visions.name = \"visions\"\n",
    "notes.name = \"notes\""
   ]
  },
  {
   "cell_type": "code",
   "execution_count": 4,
   "metadata": {},
   "outputs": [
    {
     "name": "stdout",
     "output_type": "stream",
     "text": [
      "No duplicates found.\n",
      "-----\n",
      "No duplicates found.\n",
      "-----\n",
      "No duplicates found.\n",
      "-----\n"
     ]
    }
   ],
   "source": [
    "for df in [cleaned_innovation_types, notes, cleaned_visions]:\n",
    "    csv_path = Path(ROOT, \"data\", \"modified-data\", f\"{df.name}-duplicates.csv\")\n",
    "    check_duplicates(df, output_name=df.name, output_path=csv_path)\n",
    "    print(\"-\" * 5)"
   ]
  },
  {
   "cell_type": "code",
   "execution_count": 5,
   "metadata": {},
   "outputs": [
    {
     "data": {
      "text/html": [
       "<div>\n",
       "<style scoped>\n",
       "    .dataframe tbody tr th:only-of-type {\n",
       "        vertical-align: middle;\n",
       "    }\n",
       "\n",
       "    .dataframe tbody tr th {\n",
       "        vertical-align: top;\n",
       "    }\n",
       "\n",
       "    .dataframe thead th {\n",
       "        text-align: right;\n",
       "    }\n",
       "</style>\n",
       "<table border=\"1\" class=\"dataframe\">\n",
       "  <thead>\n",
       "    <tr style=\"text-align: right;\">\n",
       "      <th></th>\n",
       "      <th>sinno_id</th>\n",
       "      <th>bioeconomy_vision</th>\n",
       "    </tr>\n",
       "  </thead>\n",
       "  <tbody>\n",
       "    <tr>\n",
       "      <th>0</th>\n",
       "      <td>5880001</td>\n",
       "      <td>9</td>\n",
       "    </tr>\n",
       "    <tr>\n",
       "      <th>1</th>\n",
       "      <td>5881001</td>\n",
       "      <td>2</td>\n",
       "    </tr>\n",
       "    <tr>\n",
       "      <th>2</th>\n",
       "      <td>5883001</td>\n",
       "      <td>2</td>\n",
       "    </tr>\n",
       "    <tr>\n",
       "      <th>3</th>\n",
       "      <td>5894001</td>\n",
       "      <td>9</td>\n",
       "    </tr>\n",
       "    <tr>\n",
       "      <th>4</th>\n",
       "      <td>5897001</td>\n",
       "      <td>9</td>\n",
       "    </tr>\n",
       "    <tr>\n",
       "      <th>...</th>\n",
       "      <td>...</td>\n",
       "      <td>...</td>\n",
       "    </tr>\n",
       "    <tr>\n",
       "      <th>785</th>\n",
       "      <td>13013001</td>\n",
       "      <td>0</td>\n",
       "    </tr>\n",
       "    <tr>\n",
       "      <th>786</th>\n",
       "      <td>13014001</td>\n",
       "      <td>9</td>\n",
       "    </tr>\n",
       "    <tr>\n",
       "      <th>787</th>\n",
       "      <td>13016001</td>\n",
       "      <td>0</td>\n",
       "    </tr>\n",
       "    <tr>\n",
       "      <th>788</th>\n",
       "      <td>13016001</td>\n",
       "      <td>9</td>\n",
       "    </tr>\n",
       "    <tr>\n",
       "      <th>789</th>\n",
       "      <td>13017001</td>\n",
       "      <td>9</td>\n",
       "    </tr>\n",
       "  </tbody>\n",
       "</table>\n",
       "<p>790 rows × 2 columns</p>\n",
       "</div>"
      ],
      "text/plain": [
       "     sinno_id bioeconomy_vision\n",
       "0     5880001                 9\n",
       "1     5881001                 2\n",
       "2     5883001                 2\n",
       "3     5894001                 9\n",
       "4     5897001                 9\n",
       "..        ...               ...\n",
       "785  13013001                 0\n",
       "786  13014001                 9\n",
       "787  13016001                 0\n",
       "788  13016001                 9\n",
       "789  13017001                 9\n",
       "\n",
       "[790 rows x 2 columns]"
      ]
     },
     "execution_count": 5,
     "metadata": {},
     "output_type": "execute_result"
    }
   ],
   "source": [
    "split_visions = split_cols(cleaned_visions, col_to_split=\"bioeconomy_vision\", sep=\",\")\n",
    "melted_visions = melt_table(\n",
    "    split_visions, id_vars=\"sinno_id\", col_start=\"bio\", value_name=\"bioeconomy_vision\"\n",
    ")\n",
    "\n",
    "melted_visions = melted_visions.dropna()\n",
    "\n",
    "melted_visions"
   ]
  },
  {
   "cell_type": "code",
   "execution_count": 6,
   "metadata": {},
   "outputs": [
    {
     "data": {
      "text/plain": [
       "283"
      ]
     },
     "execution_count": 6,
     "metadata": {},
     "output_type": "execute_result"
    }
   ],
   "source": [
    "\n",
    "melted_visions.to_sql(\n",
    "    name=\"bioeconomy_visions\", con=engine, if_exists=\"replace\", index=False\n",
    ")\n",
    "\n",
    "split_innovation_types = split_cols(\n",
    "    cleaned_innovation_types, col_to_split=\"innovation_type\", sep=\",\"\n",
    ")\n",
    "melted_innovation_types = melt_table(\n",
    "    split_innovation_types,\n",
    "    id_vars=\"sinno_id\",\n",
    "    col_start=\"innovation\",\n",
    "    value_name=\"innovation_type\",\n",
    ")\n",
    "melted_innovation_types.dropna()\n",
    "melted_innovation_types.to_sql(\n",
    "    name=\"eco_innovations\", con=engine, if_exists=\"replace\", index=False\n",
    ")\n",
    "\n",
    "notes = notes.dropna()\n",
    "notes.to_sql(name=\"categorization_notes\", con=engine, index=False, if_exists=\"replace\")"
   ]
  },
  {
   "cell_type": "code",
   "execution_count": null,
   "metadata": {},
   "outputs": [],
   "source": []
  }
 ],
 "metadata": {
  "kernelspec": {
   "display_name": "swinno-shades-green",
   "language": "python",
   "name": "python3"
  },
  "language_info": {
   "codemirror_mode": {
    "name": "ipython",
    "version": 3
   },
   "file_extension": ".py",
   "mimetype": "text/x-python",
   "name": "python",
   "nbconvert_exporter": "python",
   "pygments_lexer": "ipython3",
   "version": "3.10.9"
  },
  "orig_nbformat": 4,
  "vscode": {
   "interpreter": {
    "hash": "cff8d3e6f873bd8502c57bbb57d4afb433f8cac6d0742cc87f7c6935e69264aa"
   }
  }
 },
 "nbformat": 4,
 "nbformat_minor": 2
}
