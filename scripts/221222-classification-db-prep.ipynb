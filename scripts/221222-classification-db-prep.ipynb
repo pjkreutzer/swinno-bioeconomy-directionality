{
 "cells": [
  {
   "cell_type": "code",
   "execution_count": 11,
   "id": "05a3b73f-a264-40ae-8500-b307569fa63a",
   "metadata": {},
   "outputs": [],
   "source": [
    "import pandas as pd\n",
    "from src.swinno_helpers import split_cols\n",
    "from src.swinno_helpers import melt_table\n"
   ]
  },
  {
   "cell_type": "code",
   "execution_count": 12,
   "id": "365abac4-e274-44d0-8998-a5728e9eb969",
   "metadata": {},
   "outputs": [
    {
     "data": {
      "text/html": [
       "<div>\n",
       "<style scoped>\n",
       "    .dataframe tbody tr th:only-of-type {\n",
       "        vertical-align: middle;\n",
       "    }\n",
       "\n",
       "    .dataframe tbody tr th {\n",
       "        vertical-align: top;\n",
       "    }\n",
       "\n",
       "    .dataframe thead th {\n",
       "        text-align: right;\n",
       "    }\n",
       "</style>\n",
       "<table border=\"1\" class=\"dataframe\">\n",
       "  <thead>\n",
       "    <tr style=\"text-align: right;\">\n",
       "      <th></th>\n",
       "      <th>sinno_id</th>\n",
       "      <th>use_sectors</th>\n",
       "      <th>innovation_name_in_swedish</th>\n",
       "      <th>description_in_swedish</th>\n",
       "      <th>additional_info</th>\n",
       "      <th>innovation_type</th>\n",
       "      <th>bioeconomy_vision</th>\n",
       "      <th>notes</th>\n",
       "    </tr>\n",
       "  </thead>\n",
       "  <tbody>\n",
       "    <tr>\n",
       "      <th>0</th>\n",
       "      <td>6000001.0</td>\n",
       "      <td>20400.0</td>\n",
       "      <td>Ensocoat/Ansogloss/Tambrite</td>\n",
       "      <td>Ny typ av kartongpapper i tre varianter avsedd...</td>\n",
       "      <td>NaN</td>\n",
       "      <td>0</td>\n",
       "      <td>0</td>\n",
       "      <td>check article</td>\n",
       "    </tr>\n",
       "    <tr>\n",
       "      <th>1</th>\n",
       "      <td>6039001.0</td>\n",
       "      <td>20.0</td>\n",
       "      <td>WEN</td>\n",
       "      <td>Pneumatisk graverpenna. Drivenheten har inga a...</td>\n",
       "      <td>NaN</td>\n",
       "      <td>9,0</td>\n",
       "      <td>9,0</td>\n",
       "      <td>check article</td>\n",
       "    </tr>\n",
       "    <tr>\n",
       "      <th>2</th>\n",
       "      <td>6068001.0</td>\n",
       "      <td>17.0</td>\n",
       "      <td>TEX VPS</td>\n",
       "      <td>Världens första maskin för vakuumförpackning a...</td>\n",
       "      <td>NaN</td>\n",
       "      <td>0</td>\n",
       "      <td>9</td>\n",
       "      <td>not forest</td>\n",
       "    </tr>\n",
       "    <tr>\n",
       "      <th>3</th>\n",
       "      <td>6100001.0</td>\n",
       "      <td>13.0</td>\n",
       "      <td>NaN</td>\n",
       "      <td>Skrotdetektor baserad på induktion av virvelst...</td>\n",
       "      <td>NaN</td>\n",
       "      <td>9</td>\n",
       "      <td>9</td>\n",
       "      <td>not forest</td>\n",
       "    </tr>\n",
       "    <tr>\n",
       "      <th>4</th>\n",
       "      <td>6369001.0</td>\n",
       "      <td>13.0</td>\n",
       "      <td>NaN</td>\n",
       "      <td>System för automatisk styrning av förarlösa fo...</td>\n",
       "      <td>NaN</td>\n",
       "      <td>601,501</td>\n",
       "      <td>9</td>\n",
       "      <td>not forest</td>\n",
       "    </tr>\n",
       "  </tbody>\n",
       "</table>\n",
       "</div>"
      ],
      "text/plain": [
       "    sinno_id  use_sectors   innovation_name_in_swedish  \\\n",
       "0  6000001.0      20400.0  Ensocoat/Ansogloss/Tambrite   \n",
       "1  6039001.0         20.0                          WEN   \n",
       "2  6068001.0         17.0                      TEX VPS   \n",
       "3  6100001.0         13.0                          NaN   \n",
       "4  6369001.0         13.0                          NaN   \n",
       "\n",
       "                              description_in_swedish additional_info  \\\n",
       "0  Ny typ av kartongpapper i tre varianter avsedd...             NaN   \n",
       "1  Pneumatisk graverpenna. Drivenheten har inga a...             NaN   \n",
       "2  Världens första maskin för vakuumförpackning a...             NaN   \n",
       "3  Skrotdetektor baserad på induktion av virvelst...             NaN   \n",
       "4  System för automatisk styrning av förarlösa fo...             NaN   \n",
       "\n",
       "  innovation_type bioeconomy_vision          notes  \n",
       "0               0                 0  check article  \n",
       "1             9,0               9,0  check article  \n",
       "2               0                 9     not forest  \n",
       "3               9                 9     not forest  \n",
       "4         601,501                 9     not forest  "
      ]
     },
     "execution_count": 12,
     "metadata": {},
     "output_type": "execute_result"
    }
   ],
   "source": [
    "tags_221222 = pd.read_csv(\"../data/raw-data/221222-tagged-innovations.csv\")\n",
    "tags_221222.columns = tags_221222.columns.str.strip().str.lower().str.replace(\" \", \"_\")\n",
    "tags_221222.head()\n"
   ]
  },
  {
   "cell_type": "code",
   "execution_count": 17,
   "id": "57ceb673",
   "metadata": {},
   "outputs": [],
   "source": [
    "def clean_codes(input_df, code_digits, col):\n",
    "    old = \"(\\d{code_digits})(?!\\s+$)\"\n",
    "    new = \"$1,\"\n",
    "    output_df = input_df[col].str.replace(old, new)\n",
    "    return output_df"
   ]
  },
  {
   "attachments": {},
   "cell_type": "markdown",
   "id": "d3e9f0a5",
   "metadata": {},
   "source": [
    "## Check for Duplicates"
   ]
  },
  {
   "cell_type": "code",
   "execution_count": 20,
   "id": "9a82ca0e",
   "metadata": {},
   "outputs": [],
   "source": [
    "def check_duplicates(df, subset='sinno_id'):\n",
    "    duplicates = df.loc[df.duplicated(subset=subset, keep=False),:]\n",
    "    duplicates = duplicates.sort_values(by=subset)\n",
    "\n",
    "    if duplicates.empty:\n",
    "        print('No duplicates found.')\n",
    "    else:\n",
    "        print(f'{len(duplicates)} duplicates found.')\n",
    "        # df.to_csv(Path(ROOT, \"data\", \"modified-data\", f'{df}-duplicates.csv'))\n",
    "        print(f'{df} written to csv.')"
   ]
  },
  {
   "cell_type": "code",
   "execution_count": 21,
   "id": "a6bc54d2",
   "metadata": {},
   "outputs": [
    {
     "name": "stdout",
     "output_type": "stream",
     "text": [
      "46 duplicates found.\n",
      "       sinno_id  use_sectors   innovation_name_in_swedish  \\\n",
      "0     6000001.0      20400.0  Ensocoat/Ansogloss/Tambrite   \n",
      "1     6039001.0         20.0                          WEN   \n",
      "2     6068001.0         17.0                      TEX VPS   \n",
      "3     6100001.0         13.0                          NaN   \n",
      "4     6369001.0         13.0                          NaN   \n",
      "..          ...          ...                          ...   \n",
      "310  13013001.0        201.0                   Cambio 600   \n",
      "311  13014001.0      20101.0                 Eurosaw S6 D   \n",
      "312  13016001.0      20101.0                  Catech 6000   \n",
      "313  13017001.0      20510.0                          NaN   \n",
      "314         NaN          NaN                          NaN   \n",
      "\n",
      "                                description_in_swedish additional_info  \\\n",
      "0    Ny typ av kartongpapper i tre varianter avsedd...             NaN   \n",
      "1    Pneumatisk graverpenna. Drivenheten har inga a...             NaN   \n",
      "2    Världens första maskin för vakuumförpackning a...             NaN   \n",
      "3    Skrotdetektor baserad på induktion av virvelst...             NaN   \n",
      "4    System för automatisk styrning av förarlösa fo...             NaN   \n",
      "..                                                 ...             ...   \n",
      "310  Maskin för att barka timmer med högre prestand...             NaN   \n",
      "311  Ny, ställbar dubbelaxlig klingsåg för fyrsidig...             NaN   \n",
      "312  Kantautomat med nytt styrsystem för såväl bema...             NaN   \n",
      "313  Våtslipsystem för eggverktyg (dvs. en slipmask...             NaN   \n",
      "314                                                NaN             NaN   \n",
      "\n",
      "    innovation_type bioeconomy_vision          notes  \n",
      "0                 0                 0  check article  \n",
      "1               9,0               9,0  check article  \n",
      "2                 0                 9     not forest  \n",
      "3                 9                 9     not forest  \n",
      "4           601,501                 9     not forest  \n",
      "..              ...               ...            ...  \n",
      "310             112             2,3,0  check article  \n",
      "311               0                 2  check article  \n",
      "312               0               9,0  check article  \n",
      "313               9                 9  check article  \n",
      "314             NaN               NaN            NaN  \n",
      "\n",
      "[315 rows x 8 columns] written to csv.\n"
     ]
    }
   ],
   "source": [
    "check_duplicates(tags_221222)"
   ]
  },
  {
   "cell_type": "code",
   "execution_count": 13,
   "id": "c690ce1c",
   "metadata": {},
   "outputs": [
    {
     "data": {
      "text/plain": [
       "46"
      ]
     },
     "execution_count": 13,
     "metadata": {},
     "output_type": "execute_result"
    }
   ],
   "source": [
    "duplicates = tags_221222.loc[tags_221222.duplicated(subset=\"sinno_id\", keep=False), :]\n",
    "duplicates = duplicates.sort_values(by=\"sinno_id\")\n",
    "len(duplicates)\n",
    "\n"
   ]
  },
  {
   "attachments": {},
   "cell_type": "markdown",
   "id": "3289dd78",
   "metadata": {},
   "source": [
    "There are 46 duplicates in this dataset.\n",
    "The majority is non forest.\n",
    "\n",
    "While some innovations have received at least one differing code, the overwhelming majority has been tagged as close enough.\n",
    "\n",
    "There is also a possibility that the introduction of some codes later in the process influenced the categorization.\n",
    "Need to check this up"
   ]
  },
  {
   "attachments": {},
   "cell_type": "markdown",
   "id": "a3186942",
   "metadata": {},
   "source": [
    "## Prepare DB Entry"
   ]
  },
  {
   "cell_type": "code",
   "execution_count": 14,
   "id": "b571a83f",
   "metadata": {},
   "outputs": [],
   "source": [
    "innovation_types = tags_221222[[\"sinno_id\", \"innovation_type\"]]\n",
    "visions = tags_221222[[\"sinno_id\", \"bioeconomy_vision\"]]\n",
    "notes = tags_221222[[\"sinno_id\", \"notes\"]]\n"
   ]
  },
  {
   "attachments": {},
   "cell_type": "markdown",
   "id": "2ce0663e",
   "metadata": {},
   "source": [
    "### Innovation Types"
   ]
  },
  {
   "cell_type": "code",
   "execution_count": null,
   "id": "a0b3eaa0",
   "metadata": {},
   "outputs": [],
   "source": [
    "split_innovation_types = split_cols(innovation_types, \"innovation_type\", sep=\",\")\n"
   ]
  },
  {
   "cell_type": "code",
   "execution_count": null,
   "id": "5800083f",
   "metadata": {},
   "outputs": [],
   "source": [
    "melted_innovation_types = melt_table(\n",
    "    split_innovation_types, \"sinno_id\", \"innovation\", \"innovation_type\"\n",
    ").dropna()\n"
   ]
  },
  {
   "cell_type": "code",
   "execution_count": null,
   "id": "8e74f4e6",
   "metadata": {},
   "outputs": [],
   "source": [
    "melted_innovation_types.head()\n"
   ]
  },
  {
   "cell_type": "code",
   "execution_count": null,
   "id": "5de78c30",
   "metadata": {},
   "outputs": [],
   "source": [
    "melted_innovation_types[\"sinno_id\"] = melted_innovation_types[\"sinno_id\"].astype(int)\n"
   ]
  },
  {
   "attachments": {},
   "cell_type": "markdown",
   "id": "7aaa1f49",
   "metadata": {},
   "source": [
    "### Bioeconomy Visions"
   ]
  },
  {
   "cell_type": "code",
   "execution_count": null,
   "id": "0001e739",
   "metadata": {},
   "outputs": [],
   "source": [
    "visions.columns\n"
   ]
  },
  {
   "cell_type": "code",
   "execution_count": null,
   "id": "02adfbd2",
   "metadata": {},
   "outputs": [],
   "source": [
    "split_visions = split_cols(visions, col_to_split=\"bioeconomy_vision\", sep=\",\")\n",
    "melted_visions = melt_table(\n",
    "    split_visions, id_vars=\"sinno_id\", col_start=\"bio\", value_name=\"bioeconomy_vision\"\n",
    ")\n",
    "melted_visions.dropna(inplace=True)\n",
    "melted_visions[\"sinno_id\"] = melted_visions[\"sinno_id\"].astype(int)\n"
   ]
  },
  {
   "attachments": {},
   "cell_type": "markdown",
   "id": "e3c0a61a",
   "metadata": {},
   "source": [
    "## Export\n"
   ]
  },
  {
   "cell_type": "code",
   "execution_count": null,
   "id": "650d4c68",
   "metadata": {},
   "outputs": [],
   "source": [
    "notes.to_csv(\"../data/modified-data/22122-notes.csv\")\n",
    "melted_visions.to_csv(\"../data/modified-data/221222-visions.csv\")\n",
    "melted_innovation_types.to_csv(\"../data/modified-data/221222-innovation-types.csv\")\n"
   ]
  },
  {
   "cell_type": "code",
   "execution_count": null,
   "id": "9c0ca875",
   "metadata": {},
   "outputs": [],
   "source": [
    "from pathlib import Path\n",
    "from sqlalchemy import create_engine\n",
    "database_dir = Path.cwd().parent.parent\n",
    "database_uri = f'sqlite:///{database_dir}/swinno.db'\n"
   ]
  },
  {
   "cell_type": "code",
   "execution_count": null,
   "id": "f3637cb8",
   "metadata": {},
   "outputs": [],
   "source": [
    "engine = create_engine(database_uri)"
   ]
  },
  {
   "cell_type": "code",
   "execution_count": null,
   "id": "4f0df2af",
   "metadata": {},
   "outputs": [],
   "source": [
    "from src.swinno_helpers import connect_swinno_db\n",
    "\n",
    "eninge = connect_swinno_db()"
   ]
  },
  {
   "cell_type": "code",
   "execution_count": null,
   "id": "98020dfc",
   "metadata": {},
   "outputs": [
    {
     "ename": "NameError",
     "evalue": "name 'melted_innovation_types' is not defined",
     "output_type": "error",
     "traceback": [
      "\u001b[0;31m---------------------------------------------------------------------------\u001b[0m",
      "\u001b[0;31mNameError\u001b[0m                                 Traceback (most recent call last)",
      "Cell \u001b[0;32mIn[3], line 1\u001b[0m\n\u001b[0;32m----> 1\u001b[0m melted_innovation_types\u001b[39m.\u001b[39mto_sql(name\u001b[39m=\u001b[39m\u001b[39m'\u001b[39m\u001b[39meco_innovations\u001b[39m\u001b[39m'\u001b[39m, con\u001b[39m=\u001b[39mengine, if_exists\u001b[39m=\u001b[39m\u001b[39m'\u001b[39m\u001b[39mappend\u001b[39m\u001b[39m'\u001b[39m, index\u001b[39m=\u001b[39m\u001b[39mFalse\u001b[39;00m)\n",
      "\u001b[0;31mNameError\u001b[0m: name 'melted_innovation_types' is not defined"
     ]
    }
   ],
   "source": [
    "melted_innovation_types.to_sql(name='eco_innovations', con=engine, if_exists='append', index=False)\n"
   ]
  },
  {
   "cell_type": "code",
   "execution_count": null,
   "id": "8ef01a2b",
   "metadata": {},
   "outputs": [],
   "source": [
    "notes.to_sql(name='classification_notes', con=engine, if_exists='append', index=False)"
   ]
  },
  {
   "cell_type": "code",
   "execution_count": null,
   "id": "a3dbef85",
   "metadata": {},
   "outputs": [],
   "source": [
    "melted_visions.to_sql(name='bioeconomy_vision', con=engine, if_exists='append', index=False)"
   ]
  },
  {
   "cell_type": "code",
   "execution_count": null,
   "id": "f6b37ac8",
   "metadata": {},
   "outputs": [],
   "source": []
  }
 ],
 "metadata": {
  "kernelspec": {
   "display_name": "swinno-shades-green",
   "language": "python",
   "name": "python3"
  },
  "language_info": {
   "codemirror_mode": {
    "name": "ipython",
    "version": 3
   },
   "file_extension": ".py",
   "mimetype": "text/x-python",
   "name": "python",
   "nbconvert_exporter": "python",
   "pygments_lexer": "ipython3",
   "version": "3.10.9 (main, Jan 11 2023, 15:21:40) [GCC 11.2.0]"
  },
  "vscode": {
   "interpreter": {
    "hash": "cff8d3e6f873bd8502c57bbb57d4afb433f8cac6d0742cc87f7c6935e69264aa"
   }
  }
 },
 "nbformat": 4,
 "nbformat_minor": 5
}
